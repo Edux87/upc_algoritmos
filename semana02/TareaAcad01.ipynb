{
 "cells": [
  {
   "cell_type": "markdown",
   "metadata": {},
   "source": [
    "# Tarea Academica 01\n",
    "### Castañeda De La Cruz, Edgar Daniel (T12A)"
   ]
  },
  {
   "cell_type": "markdown",
   "metadata": {},
   "source": [
    "#### 1. Calcule el valor de la siguiente serie para N términos: \n",
    "\n",
    "$$\n",
    "1/2 + 2/3 + 3/4 + 99/100\n",
    "$$\n"
   ]
  },
  {
   "cell_type": "code",
   "execution_count": 11,
   "metadata": {},
   "outputs": [
    {
     "name": "stdout",
     "output_type": "stream",
     "text": [
      "La Suma es: 95.80272149226131"
     ]
    }
   ],
   "source": [
    "## EJERCICIO 1\n",
    "\n",
    "n = 100 #### N TERMINOS\n",
    "i = 1.0\n",
    "acum = 0.0\n",
    "\n",
    "while i <= n \n",
    "  acum += (i / ( i + 1))\n",
    "  i += 1\n",
    "end\n",
    "\n",
    "print \"La Suma es: \", acum"
   ]
  },
  {
   "cell_type": "markdown",
   "metadata": {
    "collapsed": true
   },
   "source": [
    "#### 2. Dado un número N muestre todos sus divisores."
   ]
  },
  {
   "cell_type": "code",
   "execution_count": 2,
   "metadata": {},
   "outputs": [
    {
     "name": "stdout",
     "output_type": "stream",
     "text": [
      "DIVISIBLE POR: 1.0\n",
      "DIVISIBLE POR: 2.0\n",
      "DIVISIBLE POR: 5.0\n",
      "DIVISIBLE POR: 10.0\n",
      "DIVISIBLE POR: 25.0\n",
      "DIVISIBLE POR: 50.0\n"
     ]
    }
   ],
   "source": [
    "## EJERCICIO 2\n",
    "\n",
    "n = 50 # NUMERO N\n",
    "i = 1.0\n",
    "\n",
    "while i <= n \n",
    "  if n % i == 0 \n",
    "    print \"DIVISIBLE POR: \", i, \"\\n\"\n",
    "  end\n",
    "  i += 1\n",
    "end\n"
   ]
  },
  {
   "cell_type": "markdown",
   "metadata": {},
   "source": [
    "#### 3. Una persona recibe un préstamo de 3000 soles de un banco a una tasa de interés de 2.0% mensual. Amortiza 250 soles al final de cada mes.  Determine en cuánto tiempo termina de pagar su deuda y el valor de su última cuota. El interés se aplica al saldo del préstamo. Generalice el programa"
   ]
  },
  {
   "cell_type": "code",
   "execution_count": 10,
   "metadata": {},
   "outputs": [
    {
     "name": "stdout",
     "output_type": "stream",
     "text": [
      "CUOTA: 3060.0 | SALDO: 2810.0 | MES: 1\n",
      "CUOTA: 2866.2 | SALDO: 2616.2 | MES: 2\n",
      "CUOTA: 2668.524 | SALDO: 2418.524 | MES: 3\n",
      "CUOTA: 2466.89448 | SALDO: 2216.89448 | MES: 4\n",
      "CUOTA: 2261.2323696 | SALDO: 2011.2323695999999 | MES: 5\n",
      "CUOTA: 2051.457016992 | SALDO: 1801.4570169919998 | MES: 6\n",
      "CUOTA: 1837.4861573318399 | SALDO: 1587.4861573318399 | MES: 7\n",
      "CUOTA: 1619.2358804784767 | SALDO: 1369.2358804784767 | MES: 8\n",
      "CUOTA: 1396.6205980880463 | SALDO: 1146.6205980880463 | MES: 9\n",
      "CUOTA: 1169.5530100498072 | SALDO: 919.5530100498072 | MES: 10\n",
      "CUOTA: 937.9440702508033 | SALDO: 687.9440702508033 | MES: 11\n",
      "CUOTA: 701.7029516558193 | SALDO: 451.70295165581933 | MES: 12\n",
      "CUOTA: 460.7370106889357 | SALDO: 210.7370106889357 | MES: 13\n",
      "ULTIMA CUOTA: 210.7370106889357\n"
     ]
    }
   ],
   "source": [
    "## EJERCICIO 3\n",
    "\n",
    "prestamo = 3000\n",
    "tasa_interes = 0.02\n",
    "amortizacion = 250\n",
    "termina_pagar = false\n",
    "mes = 1\n",
    "saldo = prestamo\n",
    "while !termina_pagar\n",
    "  cuota = saldo + (saldo * tasa_interes)\n",
    "  saldo = cuota - amortizacion\n",
    "  print \"CUOTA: \", cuota, \" | SALDO: \", saldo, \" | MES: \", mes, \"\\n\"\n",
    "  if saldo <= amortizacion\n",
    "    termina_pagar = true\n",
    "    print \"ULTIMA CUOTA: \", saldo, \"\\n\"\n",
    "  end\n",
    "  mes += 1\n",
    "end"
   ]
  },
  {
   "cell_type": "code",
   "execution_count": null,
   "metadata": {
    "collapsed": true
   },
   "outputs": [],
   "source": []
  }
 ],
 "metadata": {
  "kernelspec": {
   "display_name": "Ruby 2.2.7",
   "language": "ruby",
   "name": "ruby"
  },
  "language_info": {
   "file_extension": ".rb",
   "mimetype": "application/x-ruby",
   "name": "ruby",
   "version": "2.2.7"
  }
 },
 "nbformat": 4,
 "nbformat_minor": 2
}
