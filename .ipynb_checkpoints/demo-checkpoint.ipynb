{
 "cells": [
  {
   "cell_type": "code",
   "execution_count": 3,
   "metadata": {},
   "outputs": [
    {
     "name": "stdout",
     "output_type": "stream",
     "text": [
      "[nil, 1, [[...], 2, [[...], 3, nil]]] nodo0Inicial\n",
      "[nil, 1, [[...], 2, [[...], 3, nil]]] pInicial\n",
      "[[nil, 1, [...]], 2, [[...], 3, nil]] p\n",
      "[[[nil, 1, [...]], 2, [...]], 3, nil] p\n",
      "[nil, 1, [[...], 2, [[...], 3, [[...], \"NodoNuevo\", nil]]]] nodo0final\n"
     ]
    }
   ],
   "source": [
    "def puntero\n",
    "  nodo = [2,nil]\n",
    "  nodo2 = [3,nil]\n",
    "  nodo3 = [4,nil]\n",
    "\n",
    "  #print nodo\n",
    "  #print nodo2\n",
    "  #print nodo3\n",
    "\n",
    "  nodo[1] = nodo2\n",
    "  nodo2[1] = nodo3\n",
    "\n",
    "  #print nodo\n",
    "  #print nodo2\n",
    "  #print nodo3\n",
    "\n",
    "  node = nodo\n",
    "\n",
    "  puts \"recorriendo la lista\"\n",
    "  while(node[1]!=nil)do\n",
    "    puts node[0]\n",
    "    node = node[1]\n",
    "  end\n",
    "\n",
    "  print nodo\n",
    "  #print nodo2\n",
    "  puts \"recorriendo la lista2\"\n",
    "  print node\n",
    "  return node\n",
    "end\n",
    "\n",
    "def insertar_por_inicio_Simple\n",
    "\n",
    "\n",
    "  nodo0 = [\"primero\", nil]\n",
    "  nodo1 = [\"segundo\", nil]\n",
    "  nodo2 = [\"tercero\", nil]\n",
    "\n",
    "  nodo0[1] = nodo1\n",
    "  nodo1[1] = nodo2\n",
    "\n",
    "  nuevo = [5,nil]\n",
    "\n",
    "  print nodo0\n",
    "  puts \"\"\n",
    "  print nuevo\n",
    "  puts \"\"\n",
    "\n",
    "  nuevo[1] = nodo0\n",
    "\n",
    "  print nuevo\n",
    "  puts \"\"\n",
    "end\n",
    "\n",
    "def insertar_antes_del_fin_Simple\n",
    "  nodo0 = [1, nil]\n",
    "  nodo1 = [2, nil]\n",
    "  nodo2 = [3, nil]\n",
    "\n",
    "  nodo0[1] = nodo1\n",
    "  nodo1[1] = nodo2\n",
    "\n",
    "  nuevo = [\"nuevo\",nil]\n",
    "\n",
    "  #print nodo0\n",
    "\n",
    "  p = nodo0\n",
    "\n",
    "  print p\n",
    "  puts \" p\"\n",
    "\n",
    "  while p[1] != nil do\n",
    "    q = p\n",
    "    p = p[1]\n",
    "    print q\n",
    "    puts \" q\"\n",
    "    print p\n",
    "    puts \" p\"\n",
    "  end\n",
    "\n",
    "  q[1] = nuevo\n",
    "  nuevo[1] = p\n",
    "\n",
    "  print nodo0\n",
    "  puts \" nodo0\"\n",
    "\n",
    "end\n",
    "\n",
    "def insertar_al_final_Simple\n",
    "  nodo0 = [1,nil]\n",
    "  nodo1 = [2,nil]\n",
    "  nodo2 = [3,nil]\n",
    "\n",
    "  nodo0[1] = nodo1\n",
    "  nodo1[1] = nodo2\n",
    "\n",
    "  print nodo0\n",
    "  puts \" nodo0\"\n",
    "\n",
    "  p = nodo0\n",
    "\n",
    "  while p[1] != nil do\n",
    "    q = p\n",
    "    p = p[1]\n",
    "\n",
    "    print q\n",
    "    puts \" q\"\n",
    "    print p\n",
    "    puts \" p\"\n",
    "  end\n",
    "\n",
    "  nuevo = [\"nuevo\",nil]\n",
    "\n",
    "  p[1] = nuevo\n",
    "\n",
    "  print nodo0\n",
    "  puts \" nodo0final\"\n",
    "end\n",
    "\n",
    "def insertar_al_inicio_Doble\n",
    "  nodo0 = [nil,1,nil]\n",
    "  nodo1 = [nil,2,nil]\n",
    "  nodo2 = [nil,3,nil]\n",
    "\n",
    "  nodo0[2] = nodo1\n",
    "  nodo1[0] = nodo0\n",
    "\n",
    "  nodo1[2] = nodo2\n",
    "  nodo2[0] = nodo1\n",
    "\n",
    "  print nodo0\n",
    "  puts \" nodo0Inicial\"\n",
    "  print nodo1\n",
    "  puts \" nodo1\"\n",
    "  print nodo2\n",
    "  puts \" nodo2\"\n",
    "\n",
    "  nodoNuevo = [nil,\"nuevo\",nil]\n",
    "\n",
    "  nodoNuevo[2] = nodo0\n",
    "  nodo0[0] = nodoNuevo\n",
    "\n",
    "  print nodoNuevo\n",
    "  puts \" nodoNuevo\"\n",
    "\n",
    "end\n",
    "\n",
    "def insertar_antes_del_fin_Doble\n",
    "  nodo0 = [nil,1,nil]\n",
    "  nodo1 = [nil,2,nil]\n",
    "  nodo2 = [nil,3,nil]\n",
    "\n",
    "  nodoNuevo = [nil,\"NodoNuevo\",nil]\n",
    "\n",
    "  nodo0[2] = nodo1\n",
    "  nodo1[0] = nodo0\n",
    "\n",
    "  nodo1[2] = nodo2\n",
    "  nodo2[0] = nodo1\n",
    "\n",
    "  print nodo0\n",
    "  puts \" nodo0Inicial\"\n",
    "\n",
    "  p = nodo0\n",
    "\n",
    "  print p\n",
    "  puts \" pInicial\"\n",
    "\n",
    "  while p[2] != nil\n",
    "    q = p\n",
    "    p = p[2]\n",
    "    p[0] = q\n",
    "\n",
    "    print p\n",
    "    puts \" p\"\n",
    "  end\n",
    "\n",
    "  nodoNuevo[2] = p\n",
    "  p[0] = nodoNuevo\n",
    "\n",
    "  q[2] = nodoNuevo\n",
    "  nodoNuevo[0] = q\n",
    "\n",
    "  print nodo0\n",
    "  puts \" nodo0final\"\n",
    "\n",
    "end\n",
    "\n",
    "def insertar_al_final_Doble\n",
    "  nodo0 = [nil,1,nil]\n",
    "  nodo1 = [nil,2,nil]\n",
    "  nodo2 = [nil,3,nil]\n",
    "\n",
    "  nodoNuevo = [nil,\"NodoNuevo\",nil]\n",
    "\n",
    "  nodo0[2] = nodo1\n",
    "  nodo1[0] = nodo0\n",
    "\n",
    "  nodo1[2] = nodo2\n",
    "  nodo2[0] = nodo1\n",
    "\n",
    "  print nodo0\n",
    "  puts \" nodo0Inicial\"\n",
    "\n",
    "  p = nodo0\n",
    "\n",
    "  print p\n",
    "  puts \" pInicial\"\n",
    "\n",
    "  while p[2] != nil\n",
    "    q = p\n",
    "    p = p[2]\n",
    "    p[0] = q\n",
    "\n",
    "    print p\n",
    "    puts \" p\"\n",
    "  end\n",
    "\n",
    "  p[2] = nodoNuevo\n",
    "  nodoNuevo[0] = p\n",
    "\n",
    "  print nodo0\n",
    "  puts \" nodo0final\"\n",
    "\n",
    "end\n",
    "\n",
    "#puntero\n",
    "#insertar_por_inicio_Simple\n",
    "#insertar_antes_del_fin_Simple\n",
    "#insertar_al_final_Simple\n",
    "#insertar_al_inicio_Doble\n",
    "#insertar_antes_del_fin_Doble\n",
    "\n"
   ]
  },
  {
   "cell_type": "code",
   "execution_count": 4,
   "metadata": {},
   "outputs": [
    {
     "name": "stdout",
     "output_type": "stream",
     "text": [
      "[\"primero\", [\"segundo\", [\"tercero\", nil]]]\n",
      "[5, nil]\n",
      "[5, [\"primero\", [\"segundo\", [\"tercero\", nil]]]]\n"
     ]
    }
   ],
   "source": [
    "insertar_por_inicio_Simple"
   ]
  },
  {
   "cell_type": "code",
   "execution_count": 5,
   "metadata": {},
   "outputs": [
    {
     "name": "stdout",
     "output_type": "stream",
     "text": [
      "recorriendo la lista\n",
      "2\n",
      "3\n",
      "[2, [3, [4, nil]]]recorriendo la lista2\n",
      "[4, nil]"
     ]
    },
    {
     "data": {
      "text/plain": [
       "[4, nil]"
      ]
     },
     "execution_count": 5,
     "metadata": {},
     "output_type": "execute_result"
    }
   ],
   "source": [
    "puntero"
   ]
  },
  {
   "cell_type": "code",
   "execution_count": 6,
   "metadata": {},
   "outputs": [
    {
     "name": "stdout",
     "output_type": "stream",
     "text": [
      "[1, [2, [3, nil]]] p\n",
      "[1, [2, [3, nil]]] q\n",
      "[2, [3, nil]] p\n",
      "[2, [3, nil]] q\n",
      "[3, nil] p\n",
      "[1, [2, [\"nuevo\", [3, nil]]]] nodo0\n"
     ]
    }
   ],
   "source": [
    "insertar_antes_del_fin_Simple"
   ]
  },
  {
   "cell_type": "code",
   "execution_count": 7,
   "metadata": {},
   "outputs": [
    {
     "name": "stdout",
     "output_type": "stream",
     "text": [
      "[nil, 1, [[...], 2, [[...], 3, nil]]] nodo0Inicial\n",
      "[nil, 1, [[...], 2, [[...], 3, nil]]] pInicial\n",
      "[[nil, 1, [...]], 2, [[...], 3, nil]] p\n",
      "[[[nil, 1, [...]], 2, [...]], 3, nil] p\n",
      "[nil, 1, [[...], 2, [[...], 3, [[...], \"NodoNuevo\", nil]]]] nodo0final\n"
     ]
    }
   ],
   "source": [
    "insertar_al_final_Doble"
   ]
  },
  {
   "cell_type": "code",
   "execution_count": 8,
   "metadata": {},
   "outputs": [
    {
     "name": "stdout",
     "output_type": "stream",
     "text": [
      "[nil, 1, [[...], 2, [[...], 3, nil]]] nodo0Inicial\n",
      "[nil, 1, [[...], 2, [[...], 3, nil]]] pInicial\n",
      "[[nil, 1, [...]], 2, [[...], 3, nil]] p\n",
      "[[[nil, 1, [...]], 2, [...]], 3, nil] p\n",
      "[nil, 1, [[...], 2, [[...], \"NodoNuevo\", [[...], 3, nil]]]] nodo0final\n"
     ]
    }
   ],
   "source": [
    "insertar_antes_del_fin_Doble"
   ]
  },
  {
   "cell_type": "code",
   "execution_count": 9,
   "metadata": {},
   "outputs": [
    {
     "name": "stdout",
     "output_type": "stream",
     "text": [
      "[nil, 1, [[...], 2, [[...], 3, nil]]] nodo0Inicial\n",
      "[[nil, 1, [...]], 2, [[...], 3, nil]] nodo1\n",
      "[[[nil, 1, [...]], 2, [...]], 3, nil] nodo2\n",
      "[nil, \"nuevo\", [[...], 1, [[...], 2, [[...], 3, nil]]]] nodoNuevo\n"
     ]
    }
   ],
   "source": [
    "insertar_al_inicio_Doble"
   ]
  },
  {
   "cell_type": "code",
   "execution_count": 10,
   "metadata": {},
   "outputs": [
    {
     "name": "stdout",
     "output_type": "stream",
     "text": [
      "[1, [2, [3, nil]]] nodo0\n",
      "[1, [2, [3, nil]]] q\n",
      "[2, [3, nil]] p\n",
      "[2, [3, nil]] q\n",
      "[3, nil] p\n",
      "[1, [2, [3, [\"nuevo\", nil]]]] nodo0final\n"
     ]
    }
   ],
   "source": [
    "insertar_al_final_Simple"
   ]
  },
  {
   "cell_type": "code",
   "execution_count": null,
   "metadata": {
    "collapsed": true
   },
   "outputs": [],
   "source": []
  }
 ],
 "metadata": {
  "kernelspec": {
   "display_name": "Ruby 2.2.7",
   "language": "ruby",
   "name": "ruby"
  },
  "language_info": {
   "file_extension": ".rb",
   "mimetype": "application/x-ruby",
   "name": "ruby",
   "version": "2.2.7"
  }
 },
 "nbformat": 4,
 "nbformat_minor": 2
}
