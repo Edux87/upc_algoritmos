{
 "cells": [
  {
   "cell_type": "markdown",
   "metadata": {},
   "source": [
    "# Evaluacion Crediticia Preliminar con Perceptron\n",
    "### Estructura de Datos y Algoritmos (T12A)\n",
    "\n",
    "### Integrantes\n",
    "\n",
    "* Castañeda De La Cruz, Edgar Daniel\n",
    "* Jairo Villacorta"
   ]
  },
  {
   "cell_type": "markdown",
   "metadata": {},
   "source": [
    "## Presentación\n",
    "\n",
    "El presente documento es un informe tecnico de la implementacion de un software para ser utilizado como auxiliar en\n",
    "la toma de deciciones para el area de *Riesgo Crediticio* de la empresa **CREDITOS E INVERSIONES LIMA E.I.R.L.**, \n",
    "registrado en sunat con numero de RUC **20407942800** esta pyme cuenta con una gran demora al momento de realizar los calculos de riesgos crediticios (entre 2 y 3 semanas), todo el trabajo es realizado manualmente y se basa principalmente en numerosos datos historicos de prestamos ya evaluados."
   ]
  },
  {
   "cell_type": "markdown",
   "metadata": {},
   "source": [
    "## Objetivos del Trabajo\n",
    "\n",
    "* Minimizar drasticamente el tiempo de respuesta de evaluación crediticia.\n",
    "* Desarrollar la solucion personalizada en base a su data historica.\n",
    "* Nuestra solucion debe considerar que los datos historicos siempre estan en constante actualizacion.\n",
    "* Asegurar la mantenibilidad del software a futuro."
   ]
  },
  {
   "cell_type": "markdown",
   "metadata": {},
   "source": [
    "## Descripción de la Empresa\n",
    "\n",
    "### Organigrama\n",
    "![organigrama](https://xmindshare.s3.amazonaws.com/preview/microfinance-organizational-chart-cmfnc-1335362344947.jpg)\n",
    "\n",
    "\n",
    "### Proceso Actual de Evaluación\n",
    "\n",
    "Antes de desembolsar un préstamo, la entidad siempre realizan una evaluación crediticia que dependerá de cada sucursal, pero todas siempre revisan que el solicitante no tenga deudas morosas en el sistema financiero, historial de pagos, y su comportamiento crediticio.\n",
    "\n",
    "1. Si es un cliente que cumple con sus compromisos de pago en fecha. \n",
    "2. Cuál es la actividad económica (sector) a que se dedica y la antigüedad que tiene su negocio. \n",
    "3. Se tomará en cuenta su capacidad de pago, que es la cantidad de deuda que puede manejar de acuerdo a sus ingresos, los gastos del negocio y sus gastos personales (incluyendo las personas que dependan de él). \n",
    "4. En algunos casos se tendrá en cuenta si dispone de capital adicional, si tiene cuentas de ahorro o alguna propiedad que pueda funcionar como garantía del préstamo. \n",
    "\n"
   ]
  },
  {
   "cell_type": "markdown",
   "metadata": {},
   "source": [
    "## Descripcion de la Solución\n",
    "\n",
    "Desarrollaremos un algoritmo capaz de aprender los patrones de datos recogidos en el archivo historico (previamente clasificado) de la empresa, con este aprendizaje sera posible responder con un Si o No a la pregunta *¿Existe un alto riesgo de que no pueda cumplir con el prestamo?* para lo cual modelaremos una neurona básica (perceptron) con funcion de activación binaria la cual describiremos a continuación:\n",
    "\n",
    "### Perceptron\n",
    "Algunas ideas simples de que es este algoritmo:\n",
    "\n",
    " * Primer modelo de red neuronal artificial desarrollado por Rosemblat en 1958. Consta de un numero arbitrario de capas.\n",
    " * Es un modelo unidireccional, compuesto por dos capas de neuronas, una sensorial o de entrada y otra de salida. La operación de una red de este tipo con \"n\" neuronas de entrada (Unidades de Procesamiento (U.P) y \"m\" de salida y su modo de entrenamiento es de tipo supervisado.\n",
    " * Determinar los pesos Sinápticos para que el dispositivo represente la relación entrada-salida lo mas fidedigna posible. La regla de aprendizaje permite corregir los pesos sinápticos para que alcancen los valore deseado, partiendo de un conjunto de pesos inicializados aleatoriamente\n"
   ]
  },
  {
   "cell_type": "markdown",
   "metadata": {},
   "source": [
    "## Fases de Implementación"
   ]
  },
  {
   "cell_type": "markdown",
   "metadata": {},
   "source": [
    "### F. Configuracion\n",
    "\n",
    "Definicion de Hiperparametros y Carga de Datos en Memoria."
   ]
  },
  {
   "cell_type": "markdown",
   "metadata": {},
   "source": [
    "#### HIPERPARAMETROS"
   ]
  },
  {
   "cell_type": "code",
   "execution_count": 11,
   "metadata": {},
   "outputs": [
    {
     "data": {
      "text/plain": [
       "100"
      ]
     },
     "execution_count": 11,
     "metadata": {},
     "output_type": "execute_result"
    }
   ],
   "source": [
    "@eta = 0.00001 # TASA DE CONVERGENCIA (SUAVIZADO) \n",
    "@epochs = 100"
   ]
  },
  {
   "cell_type": "markdown",
   "metadata": {},
   "source": [
    "#### CARGA DE DATOS A MEMORIA EN LISTA DE AMBITO GLOBAL @dataset"
   ]
  },
  {
   "cell_type": "code",
   "execution_count": 12,
   "metadata": {},
   "outputs": [
    {
     "data": {
      "text/plain": [
       "8"
      ]
     },
     "execution_count": 12,
     "metadata": {},
     "output_type": "execute_result"
    }
   ],
   "source": [
    "require 'csv'\n",
    "\n",
    "@dataset = []\n",
    "\n",
    "def cargar_data(file)\n",
    "  # OBTENER CANTIDAD DE INPUTS\n",
    "  i = 0\n",
    "  \n",
    "  CSV.foreach(\"#{file}.csv\", :headers => true, converters: :numeric) do |row|\n",
    "    @dataset[i] = row.fields\n",
    "    i += 1\n",
    "  end\n",
    "  @ins = @dataset[i-1].size # CANTIDAD DE INPUTS\n",
    "end\n",
    "\n",
    "cargar_data('data')"
   ]
  },
  {
   "cell_type": "markdown",
   "metadata": {},
   "source": [
    "#### GENERAR LISTA DE PESOS ALEATORIOS POR CADA INPUT (COLUMNA DE DATASET)"
   ]
  },
  {
   "cell_type": "code",
   "execution_count": 13,
   "metadata": {},
   "outputs": [
    {
     "data": {
      "text/plain": [
       "[0.4, 0.0, 0.7, 0.6, 0.6, 0.1, 0.3, 0.2]"
      ]
     },
     "execution_count": 13,
     "metadata": {},
     "output_type": "execute_result"
    }
   ],
   "source": [
    "@w = []\n",
    "\n",
    "i = 0\n",
    "while i < @ins \n",
    "  @w[i] = rand(0..(@ins-1))/10.00\n",
    "  i += 1\n",
    "end\n",
    "\n",
    "@w\n"
   ]
  },
  {
   "cell_type": "markdown",
   "metadata": {},
   "source": [
    "#### DEFINIR LA FUNCION DE ACTIVACION TIPO sigmoidal binaria "
   ]
  },
  {
   "cell_type": "code",
   "execution_count": 14,
   "metadata": {},
   "outputs": [
    {
     "data": {
      "text/plain": [
       ":predict"
      ]
     },
     "execution_count": 14,
     "metadata": {},
     "output_type": "execute_result"
    }
   ],
   "source": [
    "def sigmoidal(inputs)\n",
    "  i = 0\n",
    "  weighted_average = 0\n",
    "  inputs = [1] + inputs\n",
    "  # OBTENER SUMA DEL PRODUCTO DE LOS PESOS\n",
    "  while i < @ins\n",
    "    wn = @w[i]\n",
    "    xn = inputs[i]\n",
    "    weighted_average += wn*xn\n",
    "    i += 1\n",
    "  end\n",
    "  return weighted_average\n",
    "end\n",
    "\n",
    "def predict(inputs)\n",
    "  weighted_average = sigmoidal(inputs)\n",
    "  if weighted_average > 0\n",
    "    return 1  \n",
    "  else\n",
    "    return 0\n",
    "  end\n",
    "end"
   ]
  },
  {
   "cell_type": "markdown",
   "metadata": {},
   "source": [
    "#### DEFINIR FUNCION DE ENTRENAMIENTO"
   ]
  },
  {
   "cell_type": "code",
   "execution_count": 15,
   "metadata": {},
   "outputs": [
    {
     "data": {
      "text/plain": [
       ":train"
      ]
     },
     "execution_count": 15,
     "metadata": {},
     "output_type": "execute_result"
    }
   ],
   "source": [
    "def train(inputs, ex_output)\n",
    "  output = predict(inputs)\n",
    "  inputs = [1] + inputs\n",
    "  error = ex_output - output\n",
    "  if error != 0\n",
    "      # SI EXISTE EL ERROR REAJUSTAR LOS PESOS\n",
    "      i = 0\n",
    "      while i < @ins\n",
    "        wn = @w[i]\n",
    "        xn = inputs[i]\n",
    "        @w[i] = wn + (@eta*error*xn)\n",
    "        i += 1\n",
    "      end\n",
    "  end\n",
    "  return error\n",
    "end              "
   ]
  },
  {
   "cell_type": "markdown",
   "metadata": {},
   "source": [
    "### F. Entrenamiento"
   ]
  },
  {
   "cell_type": "code",
   "execution_count": 16,
   "metadata": {
    "collapsed": true
   },
   "outputs": [],
   "source": [
    "weights = [] # Lista con los pesos\n",
    "errors = []  # Lista con los errores\n",
    "\n",
    "data_x = []\n",
    "data_y = []\n",
    "i = 0\n",
    "while i <= @epochs\n",
    "  # ENTRENAREMOS VARIAS VECES SOBRE EL MISMO DATASET\n",
    "  # PARA QUE LOS PESOS CONVERGAN\n",
    "  sum_errors = 0\n",
    "  @dataset.each_with_index do | person, index |\n",
    "    # OBTENER EL ULTIMO ELEMENTO DE LA LISTA\n",
    "    output = person[-1]\n",
    "    inp = person.take person.size - 1\n",
    "    weights.push(@w)\n",
    "    err = train(inp, output)\n",
    "    errors.push(err)\n",
    "    sum_errors += err\n",
    "  end\n",
    "  # GUARDAR DATOS PARA LA REPRESENTACION\n",
    "  data_y.push(@ins - sum_errors.round(2))\n",
    "  data_x.push(i)\n",
    "  i += 1\n",
    "end\n"
   ]
  },
  {
   "cell_type": "markdown",
   "metadata": {},
   "source": [
    "#### REPRESENTACION DE LA PRECICION EN CADA ITERACION"
   ]
  },
  {
   "cell_type": "code",
   "execution_count": 17,
   "metadata": {},
   "outputs": [
    {
     "data": {
      "text/html": [
       "<div id='vis-1755a007-0bfa-4358-8501-6dcd9291d62b'></div>\n",
       "<script>\n",
       "(function(){\n",
       "    var render = function(){\n",
       "        var model = {\"panes\":[{\"diagrams\":[{\"type\":\"line\",\"options\":{\"x\":\"data0\",\"y\":\"data1\",\"color\":\"#ff2680\"},\"data\":\"bed94897-bcf1-4aae-9131-4c17c6d2e177\"}],\"options\":{\"x_label\":\"Iteraciones\",\"y_label\":\"Errores\",\"zoom\":true,\"width\":700,\"xrange\":[0,100],\"yrange\":[9.0,68.0]}}],\"data\":{\"bed94897-bcf1-4aae-9131-4c17c6d2e177\":[{\"data0\":0,\"data1\":68.0},{\"data0\":1,\"data1\":25.0},{\"data0\":2,\"data1\":22.0},{\"data0\":3,\"data1\":21.0},{\"data0\":4,\"data1\":21.0},{\"data0\":5,\"data1\":21.0},{\"data0\":6,\"data1\":20.0},{\"data0\":7,\"data1\":20.0},{\"data0\":8,\"data1\":17.0},{\"data0\":9,\"data1\":19.0},{\"data0\":10,\"data1\":18.0},{\"data0\":11,\"data1\":16.0},{\"data0\":12,\"data1\":17.0},{\"data0\":13,\"data1\":17.0},{\"data0\":14,\"data1\":16.0},{\"data0\":15,\"data1\":16.0},{\"data0\":16,\"data1\":15.0},{\"data0\":17,\"data1\":15.0},{\"data0\":18,\"data1\":15.0},{\"data0\":19,\"data1\":15.0},{\"data0\":20,\"data1\":15.0},{\"data0\":21,\"data1\":15.0},{\"data0\":22,\"data1\":15.0},{\"data0\":23,\"data1\":15.0},{\"data0\":24,\"data1\":15.0},{\"data0\":25,\"data1\":15.0},{\"data0\":26,\"data1\":15.0},{\"data0\":27,\"data1\":14.0},{\"data0\":28,\"data1\":12.0},{\"data0\":29,\"data1\":12.0},{\"data0\":30,\"data1\":12.0},{\"data0\":31,\"data1\":12.0},{\"data0\":32,\"data1\":12.0},{\"data0\":33,\"data1\":11.0},{\"data0\":34,\"data1\":12.0},{\"data0\":35,\"data1\":11.0},{\"data0\":36,\"data1\":12.0},{\"data0\":37,\"data1\":11.0},{\"data0\":38,\"data1\":12.0},{\"data0\":39,\"data1\":10.0},{\"data0\":40,\"data1\":11.0},{\"data0\":41,\"data1\":11.0},{\"data0\":42,\"data1\":10.0},{\"data0\":43,\"data1\":11.0},{\"data0\":44,\"data1\":11.0},{\"data0\":45,\"data1\":10.0},{\"data0\":46,\"data1\":10.0},{\"data0\":47,\"data1\":11.0},{\"data0\":48,\"data1\":10.0},{\"data0\":49,\"data1\":11.0},{\"data0\":50,\"data1\":10.0},{\"data0\":51,\"data1\":10.0},{\"data0\":52,\"data1\":9.0},{\"data0\":53,\"data1\":11.0},{\"data0\":54,\"data1\":10.0},{\"data0\":55,\"data1\":10.0},{\"data0\":56,\"data1\":9.0},{\"data0\":57,\"data1\":10.0},{\"data0\":58,\"data1\":10.0},{\"data0\":59,\"data1\":10.0},{\"data0\":60,\"data1\":9.0},{\"data0\":61,\"data1\":9.0},{\"data0\":62,\"data1\":10.0},{\"data0\":63,\"data1\":10.0},{\"data0\":64,\"data1\":10.0},{\"data0\":65,\"data1\":9.0},{\"data0\":66,\"data1\":9.0},{\"data0\":67,\"data1\":10.0},{\"data0\":68,\"data1\":10.0},{\"data0\":69,\"data1\":9.0},{\"data0\":70,\"data1\":9.0},{\"data0\":71,\"data1\":9.0},{\"data0\":72,\"data1\":9.0},{\"data0\":73,\"data1\":10.0},{\"data0\":74,\"data1\":10.0},{\"data0\":75,\"data1\":9.0},{\"data0\":76,\"data1\":9.0},{\"data0\":77,\"data1\":9.0},{\"data0\":78,\"data1\":9.0},{\"data0\":79,\"data1\":9.0},{\"data0\":80,\"data1\":9.0},{\"data0\":81,\"data1\":10.0},{\"data0\":82,\"data1\":9.0},{\"data0\":83,\"data1\":9.0},{\"data0\":84,\"data1\":9.0},{\"data0\":85,\"data1\":9.0},{\"data0\":86,\"data1\":9.0},{\"data0\":87,\"data1\":9.0},{\"data0\":88,\"data1\":10.0},{\"data0\":89,\"data1\":9.0},{\"data0\":90,\"data1\":9.0},{\"data0\":91,\"data1\":9.0},{\"data0\":92,\"data1\":9.0},{\"data0\":93,\"data1\":9.0},{\"data0\":94,\"data1\":9.0},{\"data0\":95,\"data1\":9.0},{\"data0\":96,\"data1\":10.0},{\"data0\":97,\"data1\":9.0},{\"data0\":98,\"data1\":9.0},{\"data0\":99,\"data1\":9.0},{\"data0\":100,\"data1\":9.0}]},\"extension\":[]}\n",
       "        var id_name = '#vis-1755a007-0bfa-4358-8501-6dcd9291d62b';\n",
       "        Nyaplot.core.parse(model, id_name);\n",
       "\n",
       "        require(['downloadable'], function(downloadable){\n",
       "          var svg = d3.select(id_name).select(\"svg\");\n",
       "\t  if(!svg.empty())\n",
       "\t    svg.call(downloadable().filename('fig'));\n",
       "\t});\n",
       "    };\n",
       "    if(window['Nyaplot']==undefined){\n",
       "        window.addEventListener('load_nyaplot', render, false);\n",
       "\treturn;\n",
       "    } else {\n",
       "       render();\n",
       "    }\n",
       "})();\n",
       "</script>\n"
      ],
      "text/plain": [
       "#<Nyaplot::Frame:0x000000014f03c0 @properties={:panes=>[#<Nyaplot::Plot:0x0000000150c390 @properties={:diagrams=>[#<Nyaplot::Diagram:0x000000014f0b40 @properties={:type=>:line, :options=>{:x=>\"data0\", :y=>\"data1\", :color=>\"#ff2680\"}, :data=>\"bed94897-bcf1-4aae-9131-4c17c6d2e177\"}, @xrange=[0, 100], @yrange=[9.0, 68.0]>], :options=>{:x_label=>\"Iteraciones\", :y_label=>\"Errores\", :zoom=>true, :width=>700, :xrange=>[0, 100], :yrange=>[9.0, 68.0]}}>], :data=>{\"bed94897-bcf1-4aae-9131-4c17c6d2e177\"=>#<Nyaplot::DataFrame:0x00000001507bb0 @name=\"bed94897-bcf1-4aae-9131-4c17c6d2e177\", @rows=[{:data0=>0, :data1=>68.0}, {:data0=>1, :data1=>25.0}, {:data0=>2, :data1=>22.0}, {:data0=>3, :data1=>21.0}, {:data0=>4, :data1=>21.0}, {:data0=>5, :data1=>21.0}, {:data0=>6, :data1=>20.0}, {:data0=>7, :data1=>20.0}, {:data0=>8, :data1=>17.0}, {:data0=>9, :data1=>19.0}, {:data0=>10, :data1=>18.0}, {:data0=>11, :data1=>16.0}, {:data0=>12, :data1=>17.0}, {:data0=>13, :data1=>17.0}, {:data0=>14, :data1=>16.0}, {:data0=>15, :data1=>16.0}, {:data0=>16, :data1=>15.0}, {:data0=>17, :data1=>15.0}, {:data0=>18, :data1=>15.0}, {:data0=>19, :data1=>15.0}, {:data0=>20, :data1=>15.0}, {:data0=>21, :data1=>15.0}, {:data0=>22, :data1=>15.0}, {:data0=>23, :data1=>15.0}, {:data0=>24, :data1=>15.0}, {:data0=>25, :data1=>15.0}, {:data0=>26, :data1=>15.0}, {:data0=>27, :data1=>14.0}, {:data0=>28, :data1=>12.0}, {:data0=>29, :data1=>12.0}, {:data0=>30, :data1=>12.0}, {:data0=>31, :data1=>12.0}, {:data0=>32, :data1=>12.0}, {:data0=>33, :data1=>11.0}, {:data0=>34, :data1=>12.0}, {:data0=>35, :data1=>11.0}, {:data0=>36, :data1=>12.0}, {:data0=>37, :data1=>11.0}, {:data0=>38, :data1=>12.0}, {:data0=>39, :data1=>10.0}, {:data0=>40, :data1=>11.0}, {:data0=>41, :data1=>11.0}, {:data0=>42, :data1=>10.0}, {:data0=>43, :data1=>11.0}, {:data0=>44, :data1=>11.0}, {:data0=>45, :data1=>10.0}, {:data0=>46, :data1=>10.0}, {:data0=>47, :data1=>11.0}, {:data0=>48, :data1=>10.0}, {:data0=>49, :data1=>11.0}, {:data0=>50, :data1=>10.0}, {:data0=>51, :data1=>10.0}, {:data0=>52, :data1=>9.0}, {:data0=>53, :data1=>11.0}, {:data0=>54, :data1=>10.0}, {:data0=>55, :data1=>10.0}, {:data0=>56, :data1=>9.0}, {:data0=>57, :data1=>10.0}, {:data0=>58, :data1=>10.0}, {:data0=>59, :data1=>10.0}, {:data0=>60, :data1=>9.0}, {:data0=>61, :data1=>9.0}, {:data0=>62, :data1=>10.0}, {:data0=>63, :data1=>10.0}, {:data0=>64, :data1=>10.0}, {:data0=>65, :data1=>9.0}, {:data0=>66, :data1=>9.0}, {:data0=>67, :data1=>10.0}, {:data0=>68, :data1=>10.0}, {:data0=>69, :data1=>9.0}, {:data0=>70, :data1=>9.0}, {:data0=>71, :data1=>9.0}, {:data0=>72, :data1=>9.0}, {:data0=>73, :data1=>10.0}, {:data0=>74, :data1=>10.0}, {:data0=>75, :data1=>9.0}, {:data0=>76, :data1=>9.0}, {:data0=>77, :data1=>9.0}, {:data0=>78, :data1=>9.0}, {:data0=>79, :data1=>9.0}, {:data0=>80, :data1=>9.0}, {:data0=>81, :data1=>10.0}, {:data0=>82, :data1=>9.0}, {:data0=>83, :data1=>9.0}, {:data0=>84, :data1=>9.0}, {:data0=>85, :data1=>9.0}, {:data0=>86, :data1=>9.0}, {:data0=>87, :data1=>9.0}, {:data0=>88, :data1=>10.0}, {:data0=>89, :data1=>9.0}, {:data0=>90, :data1=>9.0}, {:data0=>91, :data1=>9.0}, {:data0=>92, :data1=>9.0}, {:data0=>93, :data1=>9.0}, {:data0=>94, :data1=>9.0}, {:data0=>95, :data1=>9.0}, {:data0=>96, :data1=>10.0}, {:data0=>97, :data1=>9.0}, {:data0=>98, :data1=>9.0}, {:data0=>99, :data1=>9.0}, {:data0=>100, :data1=>9.0}]>}, :extension=>[]}>"
      ]
     },
     "metadata": {},
     "output_type": "display_data"
    }
   ],
   "source": [
    "require 'nyaplot'\n",
    "\n",
    "plot = Nyaplot::Plot.new\n",
    "line_pres = plot.add(:line, data_x, data_y)\n",
    "line_pres.color('#ff2680')\n",
    "\n",
    "plot.x_label(\"Iteraciones\")\n",
    "plot.y_label(\"Errores\")\n",
    "plot.show"
   ]
  },
  {
   "cell_type": "markdown",
   "metadata": {},
   "source": [
    "#### REPRESENTACION DE LA DISTRIBUCION DEL PATRON"
   ]
  },
  {
   "cell_type": "code",
   "execution_count": 18,
   "metadata": {},
   "outputs": [
    {
     "data": {
      "text/html": [
       "<div id='vis-2cb2b1d3-7630-4000-8cd0-407763499f33'></div>\n",
       "<script>\n",
       "(function(){\n",
       "    var render = function(){\n",
       "        var model = {\"panes\":[{\"diagrams\":[{\"type\":\"scatter\",\"options\":{\"x\":\"data0\",\"y\":\"data1\",\"color\":\"#ff2680\"},\"data\":\"fec987db-0ea2-46bf-93a3-24468ac52e76\"},{\"type\":\"scatter\",\"options\":{\"x\":\"data0\",\"y\":\"data1\",\"color\":\"#15db29\"},\"data\":\"e96e735b-fce6-4057-823b-7217d4895b25\"}],\"options\":{\"zoom\":true,\"width\":700,\"xrange\":[-391.6757899999962,1452.7452100000264],\"yrange\":[0,846]}}],\"data\":{\"fec987db-0ea2-46bf-93a3-24468ac52e76\":[{\"data0\":-307.5472399999955,\"data1\":3},{\"data0\":-145.9321499999976,\"data1\":4},{\"data0\":-30.565579999997908,\"data1\":9},{\"data0\":-229.83960999999672,\"data1\":10},{\"data0\":-221.18769999999722,\"data1\":13},{\"data0\":-278.1876299999966,\"data1\":14},{\"data0\":-106.61130999999735,\"data1\":15},{\"data0\":-35.317119999998035,\"data1\":16},{\"data0\":-153.9191399999977,\"data1\":18},{\"data0\":-63.372859999997495,\"data1\":23},{\"data0\":-156.49386999999706,\"data1\":24},{\"data0\":-337.26097999999627,\"data1\":26},{\"data0\":-86.05327999999827,\"data1\":27},{\"data0\":-329.2293599999957,\"data1\":28},{\"data0\":-32.19524999999851,\"data1\":29},{\"data0\":-178.52617999999774,\"data1\":30},{\"data0\":-112.0480599999974,\"data1\":31},{\"data0\":-14.099819999997857,\"data1\":33},{\"data0\":-240.50129999999626,\"data1\":36},{\"data0\":-74.50410999999782,\"data1\":37},{\"data0\":-291.1711499999958,\"data1\":38},{\"data0\":-227.33915999999732,\"data1\":39},{\"data0\":-312.2263199999958,\"data1\":41},{\"data0\":-106.47279999999806,\"data1\":42},{\"data0\":-54.17224999999839,\"data1\":43},{\"data0\":-225.01984999999755,\"data1\":46},{\"data0\":-178.33653999999814,\"data1\":47},{\"data0\":-275.0868499999964,\"data1\":49},{\"data0\":-83.23290999999803,\"data1\":51},{\"data0\":-293.12904999999546,\"data1\":52},{\"data0\":-241.46625999999682,\"data1\":53},{\"data0\":-302.4627499999952,\"data1\":54},{\"data0\":-173.8946099999977,\"data1\":55},{\"data0\":-244.29309999999634,\"data1\":59},{\"data0\":-186.87770999999648,\"data1\":62},{\"data0\":-275.7868899999957,\"data1\":68},{\"data0\":-210.7047899999977,\"data1\":69},{\"data0\":-125.71551999999855,\"data1\":73},{\"data0\":-198.65657999999698,\"data1\":76},{\"data0\":-315.7040199999965,\"data1\":77},{\"data0\":-248.5083799999969,\"data1\":78},{\"data0\":-376.0408099999957,\"data1\":80},{\"data0\":-92.82954999999846,\"data1\":82},{\"data0\":-178.19349999999721,\"data1\":83},{\"data0\":-138.4435899999975,\"data1\":86},{\"data0\":-192.687689999997,\"data1\":91},{\"data0\":-202.6146099999968,\"data1\":92},{\"data0\":-322.61127999999655,\"data1\":95},{\"data0\":-244.298829999996,\"data1\":97},{\"data0\":-36.73576999999771,\"data1\":98},{\"data0\":-66.90792999999915,\"data1\":101},{\"data0\":-286.7169899999971,\"data1\":102},{\"data0\":-366.17973999999595,\"data1\":104},{\"data0\":-337.534799999996,\"data1\":105},{\"data0\":-243.6341499999962,\"data1\":106},{\"data0\":-292.68372999999616,\"data1\":107},{\"data0\":-301.01039999999523,\"data1\":108},{\"data0\":-254.40910999999588,\"data1\":109},{\"data0\":-304.888209999996,\"data1\":115},{\"data0\":-69.00068999999849,\"data1\":117},{\"data0\":-218.13157999999768,\"data1\":118},{\"data0\":-216.37431999999737,\"data1\":121},{\"data0\":-160.17094999999705,\"data1\":122},{\"data0\":-128.2795599999979,\"data1\":123},{\"data0\":-92.4381199999983,\"data1\":124},{\"data0\":-192.56662999999674,\"data1\":126},{\"data0\":-346.77786999999574,\"data1\":127},{\"data0\":-227.1246999999977,\"data1\":129},{\"data0\":-226.6937199999977,\"data1\":130},{\"data0\":-222.27387999999704,\"data1\":132},{\"data0\":-199.671499999998,\"data1\":134},{\"data0\":-165.91044999999667,\"data1\":135},{\"data0\":-139.89323999999718,\"data1\":137},{\"data0\":-321.68018999999634,\"data1\":138},{\"data0\":-219.91144999999673,\"data1\":140},{\"data0\":-12.814209999998209,\"data1\":143},{\"data0\":-124.36531999999852,\"data1\":144},{\"data0\":-271.35721999999726,\"data1\":146},{\"data0\":-199.44989999999635,\"data1\":147},{\"data0\":-103.0521499999976,\"data1\":149},{\"data0\":-210.41016999999647,\"data1\":150},{\"data0\":-340.3780599999959,\"data1\":151},{\"data0\":-140.65667999999675,\"data1\":152},{\"data0\":-260.39209999999696,\"data1\":153},{\"data0\":-109.42561999999894,\"data1\":156},{\"data0\":-81.84333999999774,\"data1\":157},{\"data0\":-273.47224999999565,\"data1\":158},{\"data0\":-103.61987999999815,\"data1\":160},{\"data0\":-259.1714999999975,\"data1\":162},{\"data0\":-205.47637999999665,\"data1\":164},{\"data0\":-66.842489999999,\"data1\":166},{\"data0\":-262.1228099999956,\"data1\":168},{\"data0\":-174.3772899999982,\"data1\":169},{\"data0\":-302.8141699999959,\"data1\":170},{\"data0\":-93.3475599999988,\"data1\":172},{\"data0\":-246.81744999999657,\"data1\":173},{\"data0\":-166.38501999999818,\"data1\":174},{\"data0\":-74.30682999999917,\"data1\":177},{\"data0\":-370.08252999999644,\"data1\":178},{\"data0\":-291.7058399999959,\"data1\":183},{\"data0\":-299.50947999999585,\"data1\":185},{\"data0\":-285.0129299999968,\"data1\":187},{\"data0\":-274.8213899999959,\"data1\":189},{\"data0\":-57.99993999999876,\"data1\":193},{\"data0\":-356.06842999999657,\"data1\":195},{\"data0\":-125.31205999999672,\"data1\":196},{\"data0\":-175.73403999999698,\"data1\":198},{\"data0\":-166.59150999999707,\"data1\":200},{\"data0\":-56.405579999997556,\"data1\":201},{\"data0\":-203.04989999999628,\"data1\":202},{\"data0\":-343.74931999999575,\"data1\":203},{\"data0\":-145.25676999999706,\"data1\":204},{\"data0\":-103.25726999999806,\"data1\":205},{\"data0\":-62.864799999997906,\"data1\":206},{\"data0\":-349.63124999999593,\"data1\":208},{\"data0\":-285.80288999999544,\"data1\":209},{\"data0\":-37.611399999998,\"data1\":211},{\"data0\":-78.68322999999754,\"data1\":213},{\"data0\":-173.84585999999763,\"data1\":214},{\"data0\":-293.9552199999962,\"data1\":215},{\"data0\":-332.3634899999958,\"data1\":216},{\"data0\":-263.9289099999963,\"data1\":217},{\"data0\":-133.17032999999807,\"data1\":218},{\"data0\":-80.76694999999731,\"data1\":219},{\"data0\":-233.26893999999592,\"data1\":222},{\"data0\":-144.22318999999817,\"data1\":223},{\"data0\":-207.66473999999684,\"data1\":224},{\"data0\":-166.79340999999638,\"data1\":226},{\"data0\":-296.9444999999971,\"data1\":228},{\"data0\":-93.74982999999777,\"data1\":229},{\"data0\":-135.25679999999755,\"data1\":231},{\"data0\":-381.6354599999963,\"data1\":232},{\"data0\":-287.7001099999962,\"data1\":234},{\"data0\":-279.1183799999956,\"data1\":237},{\"data0\":-164.58879999999704,\"data1\":238},{\"data0\":-209.0712399999978,\"data1\":239},{\"data0\":-112.0316899999989,\"data1\":240},{\"data0\":-310.3222699999955,\"data1\":242},{\"data0\":-35.58608999999785,\"data1\":245},{\"data0\":-206.02844999999698,\"data1\":248},{\"data0\":-104.64788999999766,\"data1\":249},{\"data0\":-28.650059999997865,\"data1\":251},{\"data0\":-88.37178999999898,\"data1\":252},{\"data0\":-125.39385999999729,\"data1\":257},{\"data0\":-226.43006999999582,\"data1\":259},{\"data0\":-195.70120999999656,\"data1\":260},{\"data0\":-162.43538999999654,\"data1\":263},{\"data0\":-157.75405999999722,\"data1\":265},{\"data0\":-88.3770699999977,\"data1\":266},{\"data0\":-235.25860999999767,\"data1\":271},{\"data0\":-209.9762599999973,\"data1\":272},{\"data0\":-198.24986999999643,\"data1\":273},{\"data0\":-238.69835999999717,\"data1\":275},{\"data0\":-249.3115499999968,\"data1\":276},{\"data0\":-208.6931099999973,\"data1\":277},{\"data0\":-207.23203999999689,\"data1\":281},{\"data0\":-146.62000999999827,\"data1\":283},{\"data0\":-18.454649999998335,\"data1\":284},{\"data0\":-130.98708999999786,\"data1\":288},{\"data0\":-259.86706999999575,\"data1\":289},{\"data0\":-170.5232499999982,\"data1\":290},{\"data0\":-152.06242999999762,\"data1\":291},{\"data0\":-111.17936999999735,\"data1\":292},{\"data0\":-36.57181999999779,\"data1\":293},{\"data0\":-225.64112999999736,\"data1\":294},{\"data0\":-260.43651999999645,\"data1\":297},{\"data0\":-237.8038499999961,\"data1\":300},{\"data0\":-189.58712999999662,\"data1\":304},{\"data0\":-183.77244999999806,\"data1\":305},{\"data0\":-324.9898499999952,\"data1\":307},{\"data0\":-87.32910999999856,\"data1\":309},{\"data0\":-279.88984999999656,\"data1\":310},{\"data0\":-24.359859999998115,\"data1\":311},{\"data0\":-65.58249999999762,\"data1\":318},{\"data0\":-150.8329299999983,\"data1\":319},{\"data0\":-337.6630699999965,\"data1\":320},{\"data0\":-232.79169999999618,\"data1\":321},{\"data0\":-278.93986999999555,\"data1\":322},{\"data0\":-53.257269999997526,\"data1\":323},{\"data0\":-63.52869999999934,\"data1\":325},{\"data0\":-42.67514999999781,\"data1\":327},{\"data0\":-106.37382999999703,\"data1\":329},{\"data0\":-157.01516999999774,\"data1\":331},{\"data0\":-48.65457999999778,\"data1\":333},{\"data0\":-230.71954999999699,\"data1\":334},{\"data0\":-255.83055999999613,\"data1\":336},{\"data0\":-54.28282999999909,\"data1\":338},{\"data0\":-58.64697999999806,\"data1\":339},{\"data0\":-121.86074999999724,\"data1\":340},{\"data0\":-355.1284199999965,\"data1\":342},{\"data0\":-81.18653999999762,\"data1\":343},{\"data0\":-242.6307999999966,\"data1\":345},{\"data0\":-236.68551999999733,\"data1\":346},{\"data0\":-198.13048999999654,\"data1\":347},{\"data0\":-160.69696999999772,\"data1\":352},{\"data0\":-251.45599999999655,\"data1\":354},{\"data0\":-321.9900799999952,\"data1\":359},{\"data0\":-125.54833999999812,\"data1\":360},{\"data0\":-239.44311999999655,\"data1\":361},{\"data0\":-272.07970999999645,\"data1\":362},{\"data0\":-251.10728999999742,\"data1\":363},{\"data0\":-271.13458999999665,\"data1\":365},{\"data0\":-330.0038599999961,\"data1\":367},{\"data0\":-240.49488999999696,\"data1\":369},{\"data0\":-111.81547999999778,\"data1\":371},{\"data0\":-320.5345099999954,\"data1\":372},{\"data0\":-194.48569999999606,\"data1\":375},{\"data0\":-231.09660999999736,\"data1\":377},{\"data0\":-335.56847999999655,\"data1\":378},{\"data0\":-186.18739999999647,\"data1\":379},{\"data0\":-131.8214099999986,\"data1\":381},{\"data0\":-299.0109399999971,\"data1\":382},{\"data0\":-279.4262099999967,\"data1\":383},{\"data0\":-288.1678299999966,\"data1\":385},{\"data0\":-326.81094999999635,\"data1\":388},{\"data0\":-227.3507999999963,\"data1\":390},{\"data0\":-285.2584599999953,\"data1\":391},{\"data0\":-63.70964999999741,\"data1\":392},{\"data0\":-204.36476999999704,\"data1\":394},{\"data0\":-150.79155999999702,\"data1\":396},{\"data0\":-275.6273799999962,\"data1\":397},{\"data0\":-48.45079999999848,\"data1\":399},{\"data0\":-160.84345999999732,\"data1\":403},{\"data0\":-73.23655999999731,\"data1\":405},{\"data0\":-348.6998599999959,\"data1\":408},{\"data0\":-87.9831499999975,\"data1\":409},{\"data0\":-109.50523999999874,\"data1\":414},{\"data0\":-195.84123999999798,\"data1\":416},{\"data0\":-23.207549999998044,\"data1\":419},{\"data0\":-36.42368999999831,\"data1\":422},{\"data0\":-158.82797999999664,\"data1\":424},{\"data0\":-128.26542999999776,\"data1\":429},{\"data0\":-189.16047999999765,\"data1\":430},{\"data0\":-168.18273999999832,\"data1\":431},{\"data0\":-201.29103999999722,\"data1\":434},{\"data0\":-163.911139999997,\"data1\":435},{\"data0\":-122.94199999999701,\"data1\":436},{\"data0\":2.0028800000017646,\"data1\":437},{\"data0\":-178.08472999999702,\"data1\":438},{\"data0\":-223.97779999999744,\"data1\":442},{\"data0\":-261.1772499999968,\"data1\":447},{\"data0\":-309.96669999999665,\"data1\":453},{\"data0\":-207.94231999999684,\"data1\":454},{\"data0\":-132.81704999999732,\"data1\":456},{\"data0\":-365.03616999999616,\"data1\":461},{\"data0\":-253.6885699999969,\"data1\":462},{\"data0\":-112.67346999999724,\"data1\":463},{\"data0\":-54.24069999999908,\"data1\":464},{\"data0\":-251.49728999999573,\"data1\":465},{\"data0\":-326.4438699999956,\"data1\":468},{\"data0\":-122.3002599999971,\"data1\":471},{\"data0\":-275.69160999999553,\"data1\":474},{\"data0\":-164.60084999999665,\"data1\":475},{\"data0\":-275.1385199999955,\"data1\":476},{\"data0\":-113.39760999999756,\"data1\":478},{\"data0\":-192.62600999999702,\"data1\":479},{\"data0\":-161.9174399999972,\"data1\":481},{\"data0\":-226.34551999999724,\"data1\":483},{\"data0\":-13.424379999998258,\"data1\":486},{\"data0\":-200.5095199999979,\"data1\":487},{\"data0\":-233.38290999999668,\"data1\":489},{\"data0\":-58.64322999999794,\"data1\":491},{\"data0\":-26.359569999998193,\"data1\":493},{\"data0\":-41.92881999999796,\"data1\":495},{\"data0\":-318.0346899999971,\"data1\":498},{\"data0\":-287.76274999999606,\"data1\":502},{\"data0\":-236.34973999999704,\"data1\":503},{\"data0\":-120.26114999999774,\"data1\":508},{\"data0\":-278.50087999999573,\"data1\":512},{\"data0\":-170.83838999999804,\"data1\":517},{\"data0\":-158.50189999999827,\"data1\":519},{\"data0\":-355.3076199999964,\"data1\":521},{\"data0\":-56.88448999999757,\"data1\":522},{\"data0\":-275.749269999996,\"data1\":523},{\"data0\":-91.88419999999888,\"data1\":525},{\"data0\":-272.2505699999963,\"data1\":528},{\"data0\":-163.04856999999834,\"data1\":529},{\"data0\":-240.99089999999737,\"data1\":531},{\"data0\":-167.9197499999977,\"data1\":533},{\"data0\":-74.5701899999992,\"data1\":535},{\"data0\":-99.65097999999864,\"data1\":537},{\"data0\":-153.14104999999697,\"data1\":538},{\"data0\":-30.814399999998173,\"data1\":539},{\"data0\":-159.58790999999775,\"data1\":541},{\"data0\":-258.55774999999755,\"data1\":542},{\"data0\":-117.39523999999788,\"data1\":543},{\"data0\":-236.89997999999585,\"data1\":546},{\"data0\":-196.39927999999645,\"data1\":548},{\"data0\":-219.9485599999967,\"data1\":550},{\"data0\":-263.4757799999957,\"data1\":551},{\"data0\":-151.36866999999734,\"data1\":554},{\"data0\":-194.87017999999728,\"data1\":556},{\"data0\":-272.965539999996,\"data1\":557},{\"data0\":-276.9740899999958,\"data1\":558},{\"data0\":-282.1073099999959,\"data1\":562},{\"data0\":-221.5222899999971,\"data1\":565},{\"data0\":-123.69843999999851,\"data1\":567},{\"data0\":-229.8070999999967,\"data1\":568},{\"data0\":-123.55624999999795,\"data1\":572},{\"data0\":-185.6111899999976,\"data1\":573},{\"data0\":-174.18466999999833,\"data1\":574},{\"data0\":-269.066939999996,\"data1\":575},{\"data0\":-221.9346799999977,\"data1\":577},{\"data0\":-75.42273999999821,\"data1\":579},{\"data0\":-371.5687799999964,\"data1\":580},{\"data0\":-122.76976999999707,\"data1\":581},{\"data0\":-252.30015999999637,\"data1\":583},{\"data0\":-290.8147699999956,\"data1\":584},{\"data0\":-341.43026999999586,\"data1\":587},{\"data0\":-140.39299999999764,\"data1\":588},{\"data0\":-271.77365999999626,\"data1\":590},{\"data0\":-179.99169999999734,\"data1\":591},{\"data0\":-168.6404799999968,\"data1\":594},{\"data0\":-274.23494999999554,\"data1\":595},{\"data0\":-259.74012999999564,\"data1\":599},{\"data0\":-253.91425999999575,\"data1\":603},{\"data0\":-225.45206999999618,\"data1\":604},{\"data0\":-305.4784599999962,\"data1\":605},{\"data0\":-133.52113999999753,\"data1\":607},{\"data0\":-112.80613999999782,\"data1\":609},{\"data0\":-191.98883999999745,\"data1\":611},{\"data0\":-246.22543999999766,\"data1\":613},{\"data0\":-146.70015999999748,\"data1\":617},{\"data0\":-317.86470999999693,\"data1\":621},{\"data0\":-195.22118999999688,\"data1\":623},{\"data0\":-129.97902999999715,\"data1\":624},{\"data0\":-100.92431999999727,\"data1\":628},{\"data0\":-324.2679499999968,\"data1\":629},{\"data0\":-173.24728999999647,\"data1\":630},{\"data0\":-273.1647899999971,\"data1\":632},{\"data0\":-122.4720699999987,\"data1\":638},{\"data0\":-23.14704999999848,\"data1\":639},{\"data0\":-163.61511999999695,\"data1\":643},{\"data0\":-53.18472999999803,\"data1\":644},{\"data0\":-245.6742299999966,\"data1\":650},{\"data0\":-71.77953999999873,\"data1\":651},{\"data0\":-270.3297999999968,\"data1\":652},{\"data0\":-365.073429999996,\"data1\":653},{\"data0\":-276.9305999999973,\"data1\":657},{\"data0\":-123.360699999998,\"data1\":658},{\"data0\":-271.8964899999954,\"data1\":659},{\"data0\":-94.63073999999891,\"data1\":660},{\"data0\":-277.2384099999961,\"data1\":662},{\"data0\":-274.36036999999624,\"data1\":667},{\"data0\":-178.02555999999655,\"data1\":668},{\"data0\":-47.943399999997496,\"data1\":669},{\"data0\":-216.4490899999975,\"data1\":677},{\"data0\":-364.68999999999573,\"data1\":678},{\"data0\":-67.58885999999899,\"data1\":684},{\"data0\":-310.01518999999627,\"data1\":686},{\"data0\":-240.03369999999646,\"data1\":687},{\"data0\":-131.23223999999857,\"data1\":689},{\"data0\":-223.65826999999746,\"data1\":690},{\"data0\":-269.32764999999733,\"data1\":692},{\"data0\":-77.415299999998,\"data1\":694},{\"data0\":-154.29805999999712,\"data1\":695},{\"data0\":-169.0426199999978,\"data1\":696},{\"data0\":-341.9269299999968,\"data1\":697},{\"data0\":-355.4573499999956,\"data1\":701},{\"data0\":-184.3625799999981,\"data1\":706},{\"data0\":-220.73352999999733,\"data1\":708},{\"data0\":-131.95693999999702,\"data1\":711},{\"data0\":-216.6357499999962,\"data1\":715},{\"data0\":-289.53074999999694,\"data1\":716},{\"data0\":-83.061069999998,\"data1\":717},{\"data0\":-331.8282699999957,\"data1\":719},{\"data0\":-356.6690699999963,\"data1\":722},{\"data0\":-232.03319999999596,\"data1\":724},{\"data0\":-62.06612999999842,\"data1\":729},{\"data0\":-391.6757899999962,\"data1\":732},{\"data0\":-350.7008999999963,\"data1\":736},{\"data0\":-241.60236999999705,\"data1\":737},{\"data0\":-31.05396999999795,\"data1\":739},{\"data0\":-136.98780999999693,\"data1\":741},{\"data0\":-337.878249999996,\"data1\":744},{\"data0\":-306.944989999996,\"data1\":746},{\"data0\":-302.021349999996,\"data1\":747},{\"data0\":-63.15513999999784,\"data1\":748},{\"data0\":-165.1263099999966,\"data1\":750},{\"data0\":-149.65910999999718,\"data1\":753},{\"data0\":-141.40720999999775,\"data1\":755},{\"data0\":-294.1908799999963,\"data1\":756},{\"data0\":-268.01906999999625,\"data1\":758},{\"data0\":-86.36895999999773,\"data1\":763},{\"data0\":-47.95639999999827,\"data1\":767},{\"data0\":-158.85422999999682,\"data1\":768},{\"data0\":-6.2614399999980215,\"data1\":769},{\"data0\":-85.26764999999867,\"data1\":770},{\"data0\":-219.84564999999768,\"data1\":771},{\"data0\":-191.70643999999666,\"data1\":772},{\"data0\":-127.95520999999728,\"data1\":773},{\"data0\":-206.13852999999727,\"data1\":774},{\"data0\":-85.23230999999844,\"data1\":777},{\"data0\":-47.83199999999773,\"data1\":778},{\"data0\":-119.4139199999981,\"data1\":779},{\"data0\":-157.01068999999683,\"data1\":780},{\"data0\":-259.42197999999723,\"data1\":783},{\"data0\":-199.58906999999627,\"data1\":786},{\"data0\":-130.69983999999872,\"data1\":788},{\"data0\":-336.8756199999954,\"data1\":790},{\"data0\":-38.616439999997645,\"data1\":795},{\"data0\":-320.31669999999593,\"data1\":798},{\"data0\":-180.81889999999783,\"data1\":799},{\"data0\":-208.93589999999787,\"data1\":800},{\"data0\":-264.575139999996,\"data1\":802},{\"data0\":-342.7940899999957,\"data1\":807},{\"data0\":-217.91427999999752,\"data1\":808},{\"data0\":-29.708959999998264,\"data1\":810},{\"data0\":-277.8770299999973,\"data1\":812},{\"data0\":-292.06709999999555,\"data1\":813},{\"data0\":-223.25563999999713,\"data1\":814},{\"data0\":-172.08641999999685,\"data1\":816},{\"data0\":-256.2060899999971,\"data1\":818},{\"data0\":-339.5931099999968,\"data1\":822},{\"data0\":-235.00675999999763,\"data1\":823},{\"data0\":-307.149059999997,\"data1\":824},{\"data0\":-145.93529999999677,\"data1\":825},{\"data0\":-142.97726999999705,\"data1\":826},{\"data0\":-286.8058599999958,\"data1\":827},{\"data0\":-61.40260999999747,\"data1\":828},{\"data0\":-176.97730999999644,\"data1\":831},{\"data0\":-322.40269999999623,\"data1\":833},{\"data0\":-337.00635999999673,\"data1\":834},{\"data0\":-160.50449999999736,\"data1\":836},{\"data0\":-142.7227199999977,\"data1\":837},{\"data0\":-345.20523999999665,\"data1\":841},{\"data0\":-105.18161999999819,\"data1\":843},{\"data0\":-232.20564999999712,\"data1\":844}],\"e96e735b-fce6-4057-823b-7217d4895b25\":[{\"data0\":425.9963200000272,\"data1\":0},{\"data0\":968.7275000000261,\"data1\":1},{\"data0\":952.6633000000218,\"data1\":2},{\"data0\":1007.697260000029,\"data1\":5},{\"data0\":1022.4435000000229,\"data1\":6},{\"data0\":344.38730000001897,\"data1\":7},{\"data0\":589.4327800000269,\"data1\":8},{\"data0\":768.6034700000204,\"data1\":11},{\"data0\":322.42717000002006,\"data1\":12},{\"data0\":812.3407100000212,\"data1\":17},{\"data0\":813.4809700000254,\"data1\":19},{\"data0\":1083.5493600000268,\"data1\":20},{\"data0\":766.7724700000304,\"data1\":21},{\"data0\":455.57178000002284,\"data1\":22},{\"data0\":593.9580500000276,\"data1\":25},{\"data0\":332.090420000021,\"data1\":32},{\"data0\":1194.9148900000228,\"data1\":34},{\"data0\":1043.245930000029,\"data1\":35},{\"data0\":492.8852600000267,\"data1\":40},{\"data0\":396.933430000019,\"data1\":44},{\"data0\":360.0630500000261,\"data1\":45},{\"data0\":580.4638400000193,\"data1\":48},{\"data0\":930.5141200000264,\"data1\":50},{\"data0\":1049.0907100000281,\"data1\":56},{\"data0\":396.37201000002403,\"data1\":57},{\"data0\":820.2507700000236,\"data1\":58},{\"data0\":1311.6520400000256,\"data1\":60},{\"data0\":888.5172300000295,\"data1\":61},{\"data0\":776.073950000032,\"data1\":63},{\"data0\":823.9602600000208,\"data1\":64},{\"data0\":538.4642800000186,\"data1\":65},{\"data0\":129.79517000001914,\"data1\":66},{\"data0\":966.6108900000305,\"data1\":67},{\"data0\":1351.510680000027,\"data1\":70},{\"data0\":902.7143500000201,\"data1\":71},{\"data0\":1002.1827200000293,\"data1\":72},{\"data0\":830.846250000029,\"data1\":74},{\"data0\":892.6006900000298,\"data1\":75},{\"data0\":5.332070000021827,\"data1\":79},{\"data0\":965.9601200000224,\"data1\":81},{\"data0\":548.6962300000156,\"data1\":84},{\"data0\":432.0938000000202,\"data1\":85},{\"data0\":872.5441400000299,\"data1\":87},{\"data0\":988.0817100000287,\"data1\":88},{\"data0\":444.54609000001705,\"data1\":89},{\"data0\":798.9565900000291,\"data1\":90},{\"data0\":439.3700000000226,\"data1\":93},{\"data0\":618.2387900000282,\"data1\":94},{\"data0\":759.0411200000202,\"data1\":96},{\"data0\":621.9237700000205,\"data1\":99},{\"data0\":1003.6571200000236,\"data1\":100},{\"data0\":331.7382400000237,\"data1\":103},{\"data0\":359.6315200000199,\"data1\":110},{\"data0\":1139.1989200000294,\"data1\":111},{\"data0\":207.64002000001815,\"data1\":112},{\"data0\":299.4650200000192,\"data1\":113},{\"data0\":796.98351000002,\"data1\":114},{\"data0\":820.72963000003,\"data1\":116},{\"data0\":1145.3299800000266,\"data1\":119},{\"data0\":713.1948400000268,\"data1\":120},{\"data0\":960.2097300000219,\"data1\":125},{\"data0\":857.6969000000255,\"data1\":128},{\"data0\":391.3790800000181,\"data1\":131},{\"data0\":986.8107000000238,\"data1\":133},{\"data0\":454.1104600000169,\"data1\":136},{\"data0\":796.2605700000265,\"data1\":139},{\"data0\":936.3998900000258,\"data1\":141},{\"data0\":262.11753000002113,\"data1\":142},{\"data0\":856.2455300000275,\"data1\":145},{\"data0\":96.11717000002102,\"data1\":148},{\"data0\":146.1742200000218,\"data1\":154},{\"data0\":792.7540400000177,\"data1\":155},{\"data0\":765.4545300000258,\"data1\":159},{\"data0\":461.3405200000214,\"data1\":161},{\"data0\":350.8464400000199,\"data1\":163},{\"data0\":790.6843500000297,\"data1\":165},{\"data0\":236.58443000002404,\"data1\":167},{\"data0\":619.1963900000247,\"data1\":171},{\"data0\":818.6519000000255,\"data1\":175},{\"data0\":995.8445800000287,\"data1\":176},{\"data0\":850.5073800000174,\"data1\":179},{\"data0\":596.2564200000229,\"data1\":180},{\"data0\":983.0216800000303,\"data1\":181},{\"data0\":954.2255000000293,\"data1\":182},{\"data0\":262.77919000001896,\"data1\":184},{\"data0\":893.2096900000292,\"data1\":186},{\"data0\":848.6486000000193,\"data1\":188},{\"data0\":858.4700700000253,\"data1\":190},{\"data0\":680.550460000028,\"data1\":191},{\"data0\":307.7939900000177,\"data1\":192},{\"data0\":609.6954100000245,\"data1\":194},{\"data0\":376.7170900000201,\"data1\":197},{\"data0\":1306.328250000025,\"data1\":199},{\"data0\":775.356830000028,\"data1\":207},{\"data0\":884.4242900000202,\"data1\":210},{\"data0\":517.6049500000188,\"data1\":212},{\"data0\":726.211690000025,\"data1\":220},{\"data0\":407.2174200000186,\"data1\":221},{\"data0\":843.802460000022,\"data1\":225},{\"data0\":189.73309000001817,\"data1\":227},{\"data0\":842.3989900000197,\"data1\":230},{\"data0\":570.6790700000197,\"data1\":233},{\"data0\":969.6319200000207,\"data1\":235},{\"data0\":302.5328900000214,\"data1\":236},{\"data0\":936.2366500000203,\"data1\":241},{\"data0\":1040.0520400000287,\"data1\":243},{\"data0\":419.51183000002356,\"data1\":244},{\"data0\":295.12709000002513,\"data1\":246},{\"data0\":801.5852600000292,\"data1\":247},{\"data0\":845.690370000027,\"data1\":250},{\"data0\":11.434120000021272,\"data1\":253},{\"data0\":1182.0187500000286,\"data1\":254},{\"data0\":951.601950000022,\"data1\":255},{\"data0\":254.14705000002272,\"data1\":256},{\"data0\":626.8888200000165,\"data1\":258},{\"data0\":631.4886600000156,\"data1\":261},{\"data0\":225.5021100000184,\"data1\":262},{\"data0\":1280.9052400000246,\"data1\":264},{\"data0\":746.1477400000199,\"data1\":267},{\"data0\":551.5295600000273,\"data1\":268},{\"data0\":941.509820000025,\"data1\":269},{\"data0\":1144.9296600000218,\"data1\":270},{\"data0\":742.4919200000295,\"data1\":274},{\"data0\":872.2605300000267,\"data1\":278},{\"data0\":674.5808400000246,\"data1\":279},{\"data0\":270.2582700000239,\"data1\":280},{\"data0\":850.264720000027,\"data1\":282},{\"data0\":496.5536900000218,\"data1\":285},{\"data0\":948.7948500000261,\"data1\":286},{\"data0\":1031.041640000022,\"data1\":287},{\"data0\":169.684020000023,\"data1\":295},{\"data0\":1425.7816100000261,\"data1\":296},{\"data0\":230.65600000002254,\"data1\":298},{\"data0\":654.7789600000245,\"data1\":299},{\"data0\":84.86644000002097,\"data1\":301},{\"data0\":1090.701950000022,\"data1\":302},{\"data0\":1146.1801100000284,\"data1\":303},{\"data0\":100.48258000002056,\"data1\":306},{\"data0\":817.3803600000169,\"data1\":308},{\"data0\":603.7560900000286,\"data1\":312},{\"data0\":48.504960000020596,\"data1\":313},{\"data0\":716.2239500000269,\"data1\":314},{\"data0\":969.1133700000283,\"data1\":315},{\"data0\":774.7381100000244,\"data1\":316},{\"data0\":936.5370300000283,\"data1\":317},{\"data0\":1427.8631000000257,\"data1\":324},{\"data0\":282.6730500000228,\"data1\":326},{\"data0\":518.6478400000184,\"data1\":328},{\"data0\":962.737390000022,\"data1\":330},{\"data0\":140.02687000001902,\"data1\":332},{\"data0\":610.3562500000163,\"data1\":335},{\"data0\":485.5732400000196,\"data1\":337},{\"data0\":166.65798000002235,\"data1\":341},{\"data0\":324.6733100000173,\"data1\":344},{\"data0\":877.4677900000311,\"data1\":348},{\"data0\":911.8342800000256,\"data1\":349},{\"data0\":1124.436190000027,\"data1\":350},{\"data0\":601.6301400000237,\"data1\":351},{\"data0\":830.8202100000248,\"data1\":353},{\"data0\":745.100860000021,\"data1\":355},{\"data0\":714.6339800000213,\"data1\":356},{\"data0\":59.89023000002004,\"data1\":357},{\"data0\":953.7026600000197,\"data1\":358},{\"data0\":743.2635400000293,\"data1\":364},{\"data0\":823.6146200000292,\"data1\":366},{\"data0\":774.7906100000187,\"data1\":368},{\"data0\":59.19596000002069,\"data1\":370},{\"data0\":237.77674000002128,\"data1\":373},{\"data0\":1087.7190800000262,\"data1\":374},{\"data0\":388.52054000002545,\"data1\":376},{\"data0\":564.6881400000206,\"data1\":380},{\"data0\":861.3943900000205,\"data1\":384},{\"data0\":602.5467900000281,\"data1\":386},{\"data0\":785.0843700000241,\"data1\":387},{\"data0\":1058.9666600000219,\"data1\":389},{\"data0\":974.7303600000287,\"data1\":393},{\"data0\":1115.1925500000227,\"data1\":395},{\"data0\":611.4981600000156,\"data1\":398},{\"data0\":870.7056900000247,\"data1\":400},{\"data0\":746.6307300000296,\"data1\":401},{\"data0\":1439.8564300000257,\"data1\":402},{\"data0\":418.55221000001904,\"data1\":404},{\"data0\":1186.4126200000248,\"data1\":406},{\"data0\":321.7069900000172,\"data1\":407},{\"data0\":542.8496700000197,\"data1\":410},{\"data0\":840.6460500000316,\"data1\":411},{\"data0\":798.7295800000257,\"data1\":412},{\"data0\":506.42013000002237,\"data1\":413},{\"data0\":775.6337600000242,\"data1\":415},{\"data0\":361.7726900000204,\"data1\":417},{\"data0\":247.03769000001822,\"data1\":418},{\"data0\":714.4568700000182,\"data1\":420},{\"data0\":30.61395000002014,\"data1\":421},{\"data0\":168.57935000002212,\"data1\":423},{\"data0\":244.14351000001852,\"data1\":425},{\"data0\":612.4362500000208,\"data1\":426},{\"data0\":1020.9040400000217,\"data1\":427},{\"data0\":422.4405400000257,\"data1\":428},{\"data0\":600.6491000000195,\"data1\":432},{\"data0\":901.0625600000249,\"data1\":433},{\"data0\":558.8448300000274,\"data1\":439},{\"data0\":1072.1108200000256,\"data1\":440},{\"data0\":986.0136100000277,\"data1\":441},{\"data0\":372.91601000001714,\"data1\":443},{\"data0\":796.3657900000312,\"data1\":444},{\"data0\":580.1454100000177,\"data1\":445},{\"data0\":139.57745000002316,\"data1\":446},{\"data0\":739.6838900000237,\"data1\":448},{\"data0\":516.7682200000241,\"data1\":449},{\"data0\":995.2483600000272,\"data1\":450},{\"data0\":1309.5337400000271,\"data1\":451},{\"data0\":648.0662000000287,\"data1\":452},{\"data0\":682.6713100000171,\"data1\":455},{\"data0\":1005.0361100000283,\"data1\":457},{\"data0\":458.9706800000251,\"data1\":458},{\"data0\":504.8749200000222,\"data1\":459},{\"data0\":1143.0000800000228,\"data1\":460},{\"data0\":347.7496300000257,\"data1\":466},{\"data0\":585.5212600000275,\"data1\":467},{\"data0\":525.9819700000229,\"data1\":469},{\"data0\":732.4388100000217,\"data1\":470},{\"data0\":1271.992910000026,\"data1\":472},{\"data0\":1171.3728100000221,\"data1\":473},{\"data0\":921.6386800000242,\"data1\":477},{\"data0\":350.9679600000258,\"data1\":480},{\"data0\":549.2857700000146,\"data1\":482},{\"data0\":605.2820700000215,\"data1\":484},{\"data0\":1143.482810000028,\"data1\":485},{\"data0\":1293.3743700000243,\"data1\":488},{\"data0\":670.3602600000238,\"data1\":490},{\"data0\":600.9303800000223,\"data1\":492},{\"data0\":1202.0789600000237,\"data1\":494},{\"data0\":685.5738700000287,\"data1\":496},{\"data0\":1237.1276600000251,\"data1\":497},{\"data0\":1295.3181300000238,\"data1\":499},{\"data0\":461.08491000002266,\"data1\":500},{\"data0\":642.6454600000217,\"data1\":501},{\"data0\":499.9398200000261,\"data1\":504},{\"data0\":586.2703600000284,\"data1\":505},{\"data0\":302.98773000002376,\"data1\":506},{\"data0\":1030.2226400000231,\"data1\":507},{\"data0\":648.1043600000302,\"data1\":509},{\"data0\":629.1059900000253,\"data1\":510},{\"data0\":875.460680000028,\"data1\":511},{\"data0\":376.62912000002154,\"data1\":513},{\"data0\":891.1310400000276,\"data1\":514},{\"data0\":142.92960000001918,\"data1\":515},{\"data0\":661.5715200000244,\"data1\":516},{\"data0\":555.3286300000274,\"data1\":518},{\"data0\":412.4087400000201,\"data1\":520},{\"data0\":619.9242600000256,\"data1\":524},{\"data0\":1067.547440000023,\"data1\":526},{\"data0\":541.9229700000197,\"data1\":527},{\"data0\":901.0547600000236,\"data1\":530},{\"data0\":431.2665600000243,\"data1\":532},{\"data0\":879.0683600000301,\"data1\":534},{\"data0\":195.00810000001812,\"data1\":536},{\"data0\":1098.223110000028,\"data1\":540},{\"data0\":704.092110000019,\"data1\":544},{\"data0\":775.9522000000245,\"data1\":545},{\"data0\":658.3748300000245,\"data1\":547},{\"data0\":477.9505000000279,\"data1\":549},{\"data0\":480.3811900000227,\"data1\":552},{\"data0\":1039.000580000025,\"data1\":553},{\"data0\":855.9145800000196,\"data1\":555},{\"data0\":1044.5399100000209,\"data1\":559},{\"data0\":1396.1713300000263,\"data1\":560},{\"data0\":592.7825000000156,\"data1\":561},{\"data0\":152.48432000002188,\"data1\":563},{\"data0\":1015.3412600000214,\"data1\":564},{\"data0\":508.85287000001676,\"data1\":566},{\"data0\":516.4845100000232,\"data1\":569},{\"data0\":438.99310000001725,\"data1\":570},{\"data0\":1270.754550000023,\"data1\":571},{\"data0\":694.7929900000266,\"data1\":576},{\"data0\":715.642280000025,\"data1\":578},{\"data0\":1199.4354300000239,\"data1\":582},{\"data0\":761.9720500000302,\"data1\":585},{\"data0\":694.9428900000285,\"data1\":586},{\"data0\":162.55435000002186,\"data1\":589},{\"data0\":880.0302200000298,\"data1\":592},{\"data0\":816.4088400000234,\"data1\":593},{\"data0\":422.576400000021,\"data1\":596},{\"data0\":1128.6996400000291,\"data1\":597},{\"data0\":859.7993700000226,\"data1\":598},{\"data0\":809.602880000019,\"data1\":600},{\"data0\":244.86254000002143,\"data1\":601},{\"data0\":1341.9423100000258,\"data1\":602},{\"data0\":1417.9140000000257,\"data1\":606},{\"data0\":841.9111300000254,\"data1\":608},{\"data0\":748.6334000000315,\"data1\":610},{\"data0\":1384.4101200000264,\"data1\":612},{\"data0\":742.4627300000163,\"data1\":614},{\"data0\":149.76476000002205,\"data1\":615},{\"data0\":774.9519700000179,\"data1\":616},{\"data0\":473.3910600000256,\"data1\":618},{\"data0\":420.7252400000199,\"data1\":619},{\"data0\":558.3594500000274,\"data1\":620},{\"data0\":1161.7339400000235,\"data1\":622},{\"data0\":631.5951600000254,\"data1\":625},{\"data0\":719.2844700000185,\"data1\":626},{\"data0\":809.5384300000305,\"data1\":627},{\"data0\":291.7906500000224,\"data1\":631},{\"data0\":487.77139000002643,\"data1\":633},{\"data0\":789.6410800000232,\"data1\":634},{\"data0\":618.9535800000247,\"data1\":635},{\"data0\":675.1099800000217,\"data1\":636},{\"data0\":751.781760000026,\"data1\":637},{\"data0\":304.9559200000192,\"data1\":640},{\"data0\":498.6075400000215,\"data1\":641},{\"data0\":1127.0702500000289,\"data1\":642},{\"data0\":1058.4802600000285,\"data1\":645},{\"data0\":578.601070000016,\"data1\":646},{\"data0\":954.7227700000253,\"data1\":647},{\"data0\":684.8613600000215,\"data1\":648},{\"data0\":837.919570000022,\"data1\":649},{\"data0\":717.5093800000187,\"data1\":654},{\"data0\":917.2107300000296,\"data1\":655},{\"data0\":363.5125800000194,\"data1\":656},{\"data0\":1312.3367700000247,\"data1\":661},{\"data0\":1021.7946600000249,\"data1\":663},{\"data0\":1209.1292800000253,\"data1\":664},{\"data0\":942.9111000000297,\"data1\":665},{\"data0\":502.73139000001765,\"data1\":666},{\"data0\":907.6411900000314,\"data1\":670},{\"data0\":165.94795000001943,\"data1\":671},{\"data0\":831.918880000019,\"data1\":672},{\"data0\":550.5911800000152,\"data1\":673},{\"data0\":1332.5750600000245,\"data1\":674},{\"data0\":1370.1651700000261,\"data1\":675},{\"data0\":311.22109000001973,\"data1\":676},{\"data0\":1092.0772900000263,\"data1\":679},{\"data0\":628.9551600000152,\"data1\":680},{\"data0\":473.9582000000219,\"data1\":681},{\"data0\":912.1991700000202,\"data1\":682},{\"data0\":813.140930000025,\"data1\":683},{\"data0\":693.0573700000268,\"data1\":685},{\"data0\":814.8351500000206,\"data1\":688},{\"data0\":594.036610000016,\"data1\":691},{\"data0\":596.629810000025,\"data1\":693},{\"data0\":715.6876200000304,\"data1\":698},{\"data0\":564.2843100000235,\"data1\":699},{\"data0\":908.8934300000266,\"data1\":700},{\"data0\":809.9032200000302,\"data1\":702},{\"data0\":192.98694000002263,\"data1\":703},{\"data0\":817.5141900000292,\"data1\":704},{\"data0\":1064.9826300000227,\"data1\":705},{\"data0\":134.5399300000194,\"data1\":707},{\"data0\":842.0845200000191,\"data1\":709},{\"data0\":537.1997300000244,\"data1\":710},{\"data0\":911.5610200000184,\"data1\":712},{\"data0\":764.6243200000298,\"data1\":713},{\"data0\":696.984200000024,\"data1\":714},{\"data0\":699.8220000000287,\"data1\":718},{\"data0\":423.2337900000274,\"data1\":720},{\"data0\":278.39350000001906,\"data1\":721},{\"data0\":1016.1698500000231,\"data1\":723},{\"data0\":799.2948800000264,\"data1\":725},{\"data0\":637.6981300000283,\"data1\":726},{\"data0\":865.6808800000313,\"data1\":727},{\"data0\":775.3264700000308,\"data1\":728},{\"data0\":833.8624600000212,\"data1\":730},{\"data0\":731.0485800000299,\"data1\":731},{\"data0\":379.39452000002166,\"data1\":733},{\"data0\":616.5491800000193,\"data1\":734},{\"data0\":720.1525400000224,\"data1\":735},{\"data0\":1127.6121700000285,\"data1\":738},{\"data0\":505.41093000002365,\"data1\":740},{\"data0\":738.7569000000228,\"data1\":742},{\"data0\":551.8627000000268,\"data1\":743},{\"data0\":75.30699000002143,\"data1\":745},{\"data0\":943.2514900000301,\"data1\":749},{\"data0\":828.5062700000318,\"data1\":751},{\"data0\":624.6460500000294,\"data1\":752},{\"data0\":619.3595600000156,\"data1\":754},{\"data0\":257.8434100000219,\"data1\":757},{\"data0\":409.8984500000172,\"data1\":759},{\"data0\":290.3793200000233,\"data1\":760},{\"data0\":574.8603800000288,\"data1\":761},{\"data0\":376.6995800000169,\"data1\":762},{\"data0\":1147.7266400000271,\"data1\":764},{\"data0\":1153.7833500000245,\"data1\":765},{\"data0\":310.3612300000255,\"data1\":766},{\"data0\":276.9333600000195,\"data1\":775},{\"data0\":857.1429800000184,\"data1\":776},{\"data0\":285.93850000001817,\"data1\":781},{\"data0\":770.4394700000287,\"data1\":782},{\"data0\":1087.7277800000236,\"data1\":784},{\"data0\":593.6230200000281,\"data1\":785},{\"data0\":864.8585000000205,\"data1\":787},{\"data0\":304.64104000002294,\"data1\":789},{\"data0\":764.7676100000289,\"data1\":791},{\"data0\":659.6793000000263,\"data1\":792},{\"data0\":568.9879700000185,\"data1\":793},{\"data0\":452.32089000001616,\"data1\":794},{\"data0\":605.7893000000271,\"data1\":796},{\"data0\":825.548110000024,\"data1\":797},{\"data0\":447.9305400000213,\"data1\":801},{\"data0\":664.9247400000246,\"data1\":803},{\"data0\":303.67711000002504,\"data1\":804},{\"data0\":330.88455000001704,\"data1\":805},{\"data0\":793.4460000000265,\"data1\":806},{\"data0\":801.4520400000207,\"data1\":809},{\"data0\":755.9762400000275,\"data1\":811},{\"data0\":250.6374100000246,\"data1\":815},{\"data0\":855.8424500000284,\"data1\":817},{\"data0\":254.81589000001992,\"data1\":819},{\"data0\":615.8559200000202,\"data1\":820},{\"data0\":1279.9774600000248,\"data1\":821},{\"data0\":602.501300000016,\"data1\":829},{\"data0\":434.89772000002193,\"data1\":830},{\"data0\":794.2115300000197,\"data1\":832},{\"data0\":569.356570000018,\"data1\":835},{\"data0\":287.9282800000198,\"data1\":838},{\"data0\":722.2072900000255,\"data1\":839},{\"data0\":1217.115890000024,\"data1\":840},{\"data0\":685.0164000000282,\"data1\":842},{\"data0\":1452.7452100000264,\"data1\":845},{\"data0\":491.2542800000278,\"data1\":846}]},\"extension\":[]}\n",
       "        var id_name = '#vis-2cb2b1d3-7630-4000-8cd0-407763499f33';\n",
       "        Nyaplot.core.parse(model, id_name);\n",
       "\n",
       "        require(['downloadable'], function(downloadable){\n",
       "          var svg = d3.select(id_name).select(\"svg\");\n",
       "\t  if(!svg.empty())\n",
       "\t    svg.call(downloadable().filename('fig'));\n",
       "\t});\n",
       "    };\n",
       "    if(window['Nyaplot']==undefined){\n",
       "        window.addEventListener('load_nyaplot', render, false);\n",
       "\treturn;\n",
       "    } else {\n",
       "       render();\n",
       "    }\n",
       "})();\n",
       "</script>\n"
      ],
      "text/plain": [
       "#<Nyaplot::Frame:0x00000000dd2430 @properties={:panes=>[#<Nyaplot::Plot:0x00000001131a90 @properties={:diagrams=>[#<Nyaplot::Diagram:0x00000001027d20 @properties={:type=>:scatter, :options=>{:x=>\"data0\", :y=>\"data1\", :color=>\"#ff2680\"}, :data=>\"fec987db-0ea2-46bf-93a3-24468ac52e76\"}, @xrange=[-391.6757899999962, 2.0028800000017646], @yrange=[3, 844]>, #<Nyaplot::Diagram:0x00000000dd4ed8 @properties={:type=>:scatter, :options=>{:x=>\"data0\", :y=>\"data1\", :color=>\"#15db29\"}, :data=>\"e96e735b-fce6-4057-823b-7217d4895b25\"}, @xrange=[5.332070000021827, 1452.7452100000264], @yrange=[0, 846]>], :options=>{:zoom=>true, :width=>700, :xrange=>[-391.6757899999962, 1452.7452100000264], :yrange=>[0, 846]}}>], :data=>{\"fec987db-0ea2-46bf-93a3-24468ac52e76\"=>#<Nyaplot::DataFrame:0x00000001131040 @name=\"fec987db-0ea2-46bf-93a3-24468ac52e76\", @rows=[{:data0=>-307.5472399999955, :data1=>3}, {:data0=>-145.9321499999976, :data1=>4}, {:data0=>-30.565579999997908, :data1=>9}, {:data0=>-229.83960999999672, :data1=>10}, {:data0=>-221.18769999999722, :data1=>13}, {:data0=>-278.1876299999966, :data1=>14}, {:data0=>-106.61130999999735, :data1=>15}, {:data0=>-35.317119999998035, :data1=>16}, {:data0=>-153.9191399999977, :data1=>18}, {:data0=>-63.372859999997495, :data1=>23}, {:data0=>-156.49386999999706, :data1=>24}, {:data0=>-337.26097999999627, :data1=>26}, {:data0=>-86.05327999999827, :data1=>27}, {:data0=>-329.2293599999957, :data1=>28}, {:data0=>-32.19524999999851, :data1=>29}, {:data0=>-178.52617999999774, :data1=>30}, {:data0=>-112.0480599999974, :data1=>31}, {:data0=>-14.099819999997857, :data1=>33}, {:data0=>-240.50129999999626, :data1=>36}, {:data0=>-74.50410999999782, :data1=>37}, {:data0=>-291.1711499999958, :data1=>38}, {:data0=>-227.33915999999732, :data1=>39}, {:data0=>-312.2263199999958, :data1=>41}, {:data0=>-106.47279999999806, :data1=>42}, {:data0=>-54.17224999999839, :data1=>43}, {:data0=>-225.01984999999755, :data1=>46}, {:data0=>-178.33653999999814, :data1=>47}, {:data0=>-275.0868499999964, :data1=>49}, {:data0=>-83.23290999999803, :data1=>51}, {:data0=>-293.12904999999546, :data1=>52}, {:data0=>-241.46625999999682, :data1=>53}, {:data0=>-302.4627499999952, :data1=>54}, {:data0=>-173.8946099999977, :data1=>55}, {:data0=>-244.29309999999634, :data1=>59}, {:data0=>-186.87770999999648, :data1=>62}, {:data0=>-275.7868899999957, :data1=>68}, {:data0=>-210.7047899999977, :data1=>69}, {:data0=>-125.71551999999855, :data1=>73}, {:data0=>-198.65657999999698, :data1=>76}, {:data0=>-315.7040199999965, :data1=>77}, {:data0=>-248.5083799999969, :data1=>78}, {:data0=>-376.0408099999957, :data1=>80}, {:data0=>-92.82954999999846, :data1=>82}, {:data0=>-178.19349999999721, :data1=>83}, {:data0=>-138.4435899999975, :data1=>86}, {:data0=>-192.687689999997, :data1=>91}, {:data0=>-202.6146099999968, :data1=>92}, {:data0=>-322.61127999999655, :data1=>95}, {:data0=>-244.298829999996, :data1=>97}, {:data0=>-36.73576999999771, :data1=>98}, {:data0=>-66.90792999999915, :data1=>101}, {:data0=>-286.7169899999971, :data1=>102}, {:data0=>-366.17973999999595, :data1=>104}, {:data0=>-337.534799999996, :data1=>105}, {:data0=>-243.6341499999962, :data1=>106}, {:data0=>-292.68372999999616, :data1=>107}, {:data0=>-301.01039999999523, :data1=>108}, {:data0=>-254.40910999999588, :data1=>109}, {:data0=>-304.888209999996, :data1=>115}, {:data0=>-69.00068999999849, :data1=>117}, {:data0=>-218.13157999999768, :data1=>118}, {:data0=>-216.37431999999737, :data1=>121}, {:data0=>-160.17094999999705, :data1=>122}, {:data0=>-128.2795599999979, :data1=>123}, {:data0=>-92.4381199999983, :data1=>124}, {:data0=>-192.56662999999674, :data1=>126}, {:data0=>-346.77786999999574, :data1=>127}, {:data0=>-227.1246999999977, :data1=>129}, {:data0=>-226.6937199999977, :data1=>130}, {:data0=>-222.27387999999704, :data1=>132}, {:data0=>-199.671499999998, :data1=>134}, {:data0=>-165.91044999999667, :data1=>135}, {:data0=>-139.89323999999718, :data1=>137}, {:data0=>-321.68018999999634, :data1=>138}, {:data0=>-219.91144999999673, :data1=>140}, {:data0=>-12.814209999998209, :data1=>143}, {:data0=>-124.36531999999852, :data1=>144}, {:data0=>-271.35721999999726, :data1=>146}, {:data0=>-199.44989999999635, :data1=>147}, {:data0=>-103.0521499999976, :data1=>149}, {:data0=>-210.41016999999647, :data1=>150}, {:data0=>-340.3780599999959, :data1=>151}, {:data0=>-140.65667999999675, :data1=>152}, {:data0=>-260.39209999999696, :data1=>153}, {:data0=>-109.42561999999894, :data1=>156}, {:data0=>-81.84333999999774, :data1=>157}, {:data0=>-273.47224999999565, :data1=>158}, {:data0=>-103.61987999999815, :data1=>160}, {:data0=>-259.1714999999975, :data1=>162}, {:data0=>-205.47637999999665, :data1=>164}, {:data0=>-66.842489999999, :data1=>166}, {:data0=>-262.1228099999956, :data1=>168}, {:data0=>-174.3772899999982, :data1=>169}, {:data0=>-302.8141699999959, :data1=>170}, {:data0=>-93.3475599999988, :data1=>172}, {:data0=>-246.81744999999657, :data1=>173}, {:data0=>-166.38501999999818, :data1=>174}, {:data0=>-74.30682999999917, :data1=>177}, {:data0=>-370.08252999999644, :data1=>178}, {:data0=>-291.7058399999959, :data1=>183}, {:data0=>-299.50947999999585, :data1=>185}, {:data0=>-285.0129299999968, :data1=>187}, {:data0=>-274.8213899999959, :data1=>189}, {:data0=>-57.99993999999876, :data1=>193}, {:data0=>-356.06842999999657, :data1=>195}, {:data0=>-125.31205999999672, :data1=>196}, {:data0=>-175.73403999999698, :data1=>198}, {:data0=>-166.59150999999707, :data1=>200}, {:data0=>-56.405579999997556, :data1=>201}, {:data0=>-203.04989999999628, :data1=>202}, {:data0=>-343.74931999999575, :data1=>203}, {:data0=>-145.25676999999706, :data1=>204}, {:data0=>-103.25726999999806, :data1=>205}, {:data0=>-62.864799999997906, :data1=>206}, {:data0=>-349.63124999999593, :data1=>208}, {:data0=>-285.80288999999544, :data1=>209}, {:data0=>-37.611399999998, :data1=>211}, {:data0=>-78.68322999999754, :data1=>213}, {:data0=>-173.84585999999763, :data1=>214}, {:data0=>-293.9552199999962, :data1=>215}, {:data0=>-332.3634899999958, :data1=>216}, {:data0=>-263.9289099999963, :data1=>217}, {:data0=>-133.17032999999807, :data1=>218}, {:data0=>-80.76694999999731, :data1=>219}, {:data0=>-233.26893999999592, :data1=>222}, {:data0=>-144.22318999999817, :data1=>223}, {:data0=>-207.66473999999684, :data1=>224}, {:data0=>-166.79340999999638, :data1=>226}, {:data0=>-296.9444999999971, :data1=>228}, {:data0=>-93.74982999999777, :data1=>229}, {:data0=>-135.25679999999755, :data1=>231}, {:data0=>-381.6354599999963, :data1=>232}, {:data0=>-287.7001099999962, :data1=>234}, {:data0=>-279.1183799999956, :data1=>237}, {:data0=>-164.58879999999704, :data1=>238}, {:data0=>-209.0712399999978, :data1=>239}, {:data0=>-112.0316899999989, :data1=>240}, {:data0=>-310.3222699999955, :data1=>242}, {:data0=>-35.58608999999785, :data1=>245}, {:data0=>-206.02844999999698, :data1=>248}, {:data0=>-104.64788999999766, :data1=>249}, {:data0=>-28.650059999997865, :data1=>251}, {:data0=>-88.37178999999898, :data1=>252}, {:data0=>-125.39385999999729, :data1=>257}, {:data0=>-226.43006999999582, :data1=>259}, {:data0=>-195.70120999999656, :data1=>260}, {:data0=>-162.43538999999654, :data1=>263}, {:data0=>-157.75405999999722, :data1=>265}, {:data0=>-88.3770699999977, :data1=>266}, {:data0=>-235.25860999999767, :data1=>271}, {:data0=>-209.9762599999973, :data1=>272}, {:data0=>-198.24986999999643, :data1=>273}, {:data0=>-238.69835999999717, :data1=>275}, {:data0=>-249.3115499999968, :data1=>276}, {:data0=>-208.6931099999973, :data1=>277}, {:data0=>-207.23203999999689, :data1=>281}, {:data0=>-146.62000999999827, :data1=>283}, {:data0=>-18.454649999998335, :data1=>284}, {:data0=>-130.98708999999786, :data1=>288}, {:data0=>-259.86706999999575, :data1=>289}, {:data0=>-170.5232499999982, :data1=>290}, {:data0=>-152.06242999999762, :data1=>291}, {:data0=>-111.17936999999735, :data1=>292}, {:data0=>-36.57181999999779, :data1=>293}, {:data0=>-225.64112999999736, :data1=>294}, {:data0=>-260.43651999999645, :data1=>297}, {:data0=>-237.8038499999961, :data1=>300}, {:data0=>-189.58712999999662, :data1=>304}, {:data0=>-183.77244999999806, :data1=>305}, {:data0=>-324.9898499999952, :data1=>307}, {:data0=>-87.32910999999856, :data1=>309}, {:data0=>-279.88984999999656, :data1=>310}, {:data0=>-24.359859999998115, :data1=>311}, {:data0=>-65.58249999999762, :data1=>318}, {:data0=>-150.8329299999983, :data1=>319}, {:data0=>-337.6630699999965, :data1=>320}, {:data0=>-232.79169999999618, :data1=>321}, {:data0=>-278.93986999999555, :data1=>322}, {:data0=>-53.257269999997526, :data1=>323}, {:data0=>-63.52869999999934, :data1=>325}, {:data0=>-42.67514999999781, :data1=>327}, {:data0=>-106.37382999999703, :data1=>329}, {:data0=>-157.01516999999774, :data1=>331}, {:data0=>-48.65457999999778, :data1=>333}, {:data0=>-230.71954999999699, :data1=>334}, {:data0=>-255.83055999999613, :data1=>336}, {:data0=>-54.28282999999909, :data1=>338}, {:data0=>-58.64697999999806, :data1=>339}, {:data0=>-121.86074999999724, :data1=>340}, {:data0=>-355.1284199999965, :data1=>342}, {:data0=>-81.18653999999762, :data1=>343}, {:data0=>-242.6307999999966, :data1=>345}, {:data0=>-236.68551999999733, :data1=>346}, {:data0=>-198.13048999999654, :data1=>347}, {:data0=>-160.69696999999772, :data1=>352}, {:data0=>-251.45599999999655, :data1=>354}, {:data0=>-321.9900799999952, :data1=>359}, {:data0=>-125.54833999999812, :data1=>360}, {:data0=>-239.44311999999655, :data1=>361}, {:data0=>-272.07970999999645, :data1=>362}, {:data0=>-251.10728999999742, :data1=>363}, {:data0=>-271.13458999999665, :data1=>365}, {:data0=>-330.0038599999961, :data1=>367}, {:data0=>-240.49488999999696, :data1=>369}, {:data0=>-111.81547999999778, :data1=>371}, {:data0=>-320.5345099999954, :data1=>372}, {:data0=>-194.48569999999606, :data1=>375}, {:data0=>-231.09660999999736, :data1=>377}, {:data0=>-335.56847999999655, :data1=>378}, {:data0=>-186.18739999999647, :data1=>379}, {:data0=>-131.8214099999986, :data1=>381}, {:data0=>-299.0109399999971, :data1=>382}, {:data0=>-279.4262099999967, :data1=>383}, {:data0=>-288.1678299999966, :data1=>385}, {:data0=>-326.81094999999635, :data1=>388}, {:data0=>-227.3507999999963, :data1=>390}, {:data0=>-285.2584599999953, :data1=>391}, {:data0=>-63.70964999999741, :data1=>392}, {:data0=>-204.36476999999704, :data1=>394}, {:data0=>-150.79155999999702, :data1=>396}, {:data0=>-275.6273799999962, :data1=>397}, {:data0=>-48.45079999999848, :data1=>399}, {:data0=>-160.84345999999732, :data1=>403}, {:data0=>-73.23655999999731, :data1=>405}, {:data0=>-348.6998599999959, :data1=>408}, {:data0=>-87.9831499999975, :data1=>409}, {:data0=>-109.50523999999874, :data1=>414}, {:data0=>-195.84123999999798, :data1=>416}, {:data0=>-23.207549999998044, :data1=>419}, {:data0=>-36.42368999999831, :data1=>422}, {:data0=>-158.82797999999664, :data1=>424}, {:data0=>-128.26542999999776, :data1=>429}, {:data0=>-189.16047999999765, :data1=>430}, {:data0=>-168.18273999999832, :data1=>431}, {:data0=>-201.29103999999722, :data1=>434}, {:data0=>-163.911139999997, :data1=>435}, {:data0=>-122.94199999999701, :data1=>436}, {:data0=>2.0028800000017646, :data1=>437}, {:data0=>-178.08472999999702, :data1=>438}, {:data0=>-223.97779999999744, :data1=>442}, {:data0=>-261.1772499999968, :data1=>447}, {:data0=>-309.96669999999665, :data1=>453}, {:data0=>-207.94231999999684, :data1=>454}, {:data0=>-132.81704999999732, :data1=>456}, {:data0=>-365.03616999999616, :data1=>461}, {:data0=>-253.6885699999969, :data1=>462}, {:data0=>-112.67346999999724, :data1=>463}, {:data0=>-54.24069999999908, :data1=>464}, {:data0=>-251.49728999999573, :data1=>465}, {:data0=>-326.4438699999956, :data1=>468}, {:data0=>-122.3002599999971, :data1=>471}, {:data0=>-275.69160999999553, :data1=>474}, {:data0=>-164.60084999999665, :data1=>475}, {:data0=>-275.1385199999955, :data1=>476}, {:data0=>-113.39760999999756, :data1=>478}, {:data0=>-192.62600999999702, :data1=>479}, {:data0=>-161.9174399999972, :data1=>481}, {:data0=>-226.34551999999724, :data1=>483}, {:data0=>-13.424379999998258, :data1=>486}, {:data0=>-200.5095199999979, :data1=>487}, {:data0=>-233.38290999999668, :data1=>489}, {:data0=>-58.64322999999794, :data1=>491}, {:data0=>-26.359569999998193, :data1=>493}, {:data0=>-41.92881999999796, :data1=>495}, {:data0=>-318.0346899999971, :data1=>498}, {:data0=>-287.76274999999606, :data1=>502}, {:data0=>-236.34973999999704, :data1=>503}, {:data0=>-120.26114999999774, :data1=>508}, {:data0=>-278.50087999999573, :data1=>512}, {:data0=>-170.83838999999804, :data1=>517}, {:data0=>-158.50189999999827, :data1=>519}, {:data0=>-355.3076199999964, :data1=>521}, {:data0=>-56.88448999999757, :data1=>522}, {:data0=>-275.749269999996, :data1=>523}, {:data0=>-91.88419999999888, :data1=>525}, {:data0=>-272.2505699999963, :data1=>528}, {:data0=>-163.04856999999834, :data1=>529}, {:data0=>-240.99089999999737, :data1=>531}, {:data0=>-167.9197499999977, :data1=>533}, {:data0=>-74.5701899999992, :data1=>535}, {:data0=>-99.65097999999864, :data1=>537}, {:data0=>-153.14104999999697, :data1=>538}, {:data0=>-30.814399999998173, :data1=>539}, {:data0=>-159.58790999999775, :data1=>541}, {:data0=>-258.55774999999755, :data1=>542}, {:data0=>-117.39523999999788, :data1=>543}, {:data0=>-236.89997999999585, :data1=>546}, {:data0=>-196.39927999999645, :data1=>548}, {:data0=>-219.9485599999967, :data1=>550}, {:data0=>-263.4757799999957, :data1=>551}, {:data0=>-151.36866999999734, :data1=>554}, {:data0=>-194.87017999999728, :data1=>556}, {:data0=>-272.965539999996, :data1=>557}, {:data0=>-276.9740899999958, :data1=>558}, {:data0=>-282.1073099999959, :data1=>562}, {:data0=>-221.5222899999971, :data1=>565}, {:data0=>-123.69843999999851, :data1=>567}, {:data0=>-229.8070999999967, :data1=>568}, {:data0=>-123.55624999999795, :data1=>572}, {:data0=>-185.6111899999976, :data1=>573}, {:data0=>-174.18466999999833, :data1=>574}, {:data0=>-269.066939999996, :data1=>575}, {:data0=>-221.9346799999977, :data1=>577}, {:data0=>-75.42273999999821, :data1=>579}, {:data0=>-371.5687799999964, :data1=>580}, {:data0=>-122.76976999999707, :data1=>581}, {:data0=>-252.30015999999637, :data1=>583}, {:data0=>-290.8147699999956, :data1=>584}, {:data0=>-341.43026999999586, :data1=>587}, {:data0=>-140.39299999999764, :data1=>588}, {:data0=>-271.77365999999626, :data1=>590}, {:data0=>-179.99169999999734, :data1=>591}, {:data0=>-168.6404799999968, :data1=>594}, {:data0=>-274.23494999999554, :data1=>595}, {:data0=>-259.74012999999564, :data1=>599}, {:data0=>-253.91425999999575, :data1=>603}, {:data0=>-225.45206999999618, :data1=>604}, {:data0=>-305.4784599999962, :data1=>605}, {:data0=>-133.52113999999753, :data1=>607}, {:data0=>-112.80613999999782, :data1=>609}, {:data0=>-191.98883999999745, :data1=>611}, {:data0=>-246.22543999999766, :data1=>613}, {:data0=>-146.70015999999748, :data1=>617}, {:data0=>-317.86470999999693, :data1=>621}, {:data0=>-195.22118999999688, :data1=>623}, {:data0=>-129.97902999999715, :data1=>624}, {:data0=>-100.92431999999727, :data1=>628}, {:data0=>-324.2679499999968, :data1=>629}, {:data0=>-173.24728999999647, :data1=>630}, {:data0=>-273.1647899999971, :data1=>632}, {:data0=>-122.4720699999987, :data1=>638}, {:data0=>-23.14704999999848, :data1=>639}, {:data0=>-163.61511999999695, :data1=>643}, {:data0=>-53.18472999999803, :data1=>644}, {:data0=>-245.6742299999966, :data1=>650}, {:data0=>-71.77953999999873, :data1=>651}, {:data0=>-270.3297999999968, :data1=>652}, {:data0=>-365.073429999996, :data1=>653}, {:data0=>-276.9305999999973, :data1=>657}, {:data0=>-123.360699999998, :data1=>658}, {:data0=>-271.8964899999954, :data1=>659}, {:data0=>-94.63073999999891, :data1=>660}, {:data0=>-277.2384099999961, :data1=>662}, {:data0=>-274.36036999999624, :data1=>667}, {:data0=>-178.02555999999655, :data1=>668}, {:data0=>-47.943399999997496, :data1=>669}, {:data0=>-216.4490899999975, :data1=>677}, {:data0=>-364.68999999999573, :data1=>678}, {:data0=>-67.58885999999899, :data1=>684}, {:data0=>-310.01518999999627, :data1=>686}, {:data0=>-240.03369999999646, :data1=>687}, {:data0=>-131.23223999999857, :data1=>689}, {:data0=>-223.65826999999746, :data1=>690}, {:data0=>-269.32764999999733, :data1=>692}, {:data0=>-77.415299999998, :data1=>694}, {:data0=>-154.29805999999712, :data1=>695}, {:data0=>-169.0426199999978, :data1=>696}, {:data0=>-341.9269299999968, :data1=>697}, {:data0=>-355.4573499999956, :data1=>701}, {:data0=>-184.3625799999981, :data1=>706}, {:data0=>-220.73352999999733, :data1=>708}, {:data0=>-131.95693999999702, :data1=>711}, {:data0=>-216.6357499999962, :data1=>715}, {:data0=>-289.53074999999694, :data1=>716}, {:data0=>-83.061069999998, :data1=>717}, {:data0=>-331.8282699999957, :data1=>719}, {:data0=>-356.6690699999963, :data1=>722}, {:data0=>-232.03319999999596, :data1=>724}, {:data0=>-62.06612999999842, :data1=>729}, {:data0=>-391.6757899999962, :data1=>732}, {:data0=>-350.7008999999963, :data1=>736}, {:data0=>-241.60236999999705, :data1=>737}, {:data0=>-31.05396999999795, :data1=>739}, {:data0=>-136.98780999999693, :data1=>741}, {:data0=>-337.878249999996, :data1=>744}, {:data0=>-306.944989999996, :data1=>746}, {:data0=>-302.021349999996, :data1=>747}, {:data0=>-63.15513999999784, :data1=>748}, {:data0=>-165.1263099999966, :data1=>750}, {:data0=>-149.65910999999718, :data1=>753}, {:data0=>-141.40720999999775, :data1=>755}, {:data0=>-294.1908799999963, :data1=>756}, {:data0=>-268.01906999999625, :data1=>758}, {:data0=>-86.36895999999773, :data1=>763}, {:data0=>-47.95639999999827, :data1=>767}, {:data0=>-158.85422999999682, :data1=>768}, {:data0=>-6.2614399999980215, :data1=>769}, {:data0=>-85.26764999999867, :data1=>770}, {:data0=>-219.84564999999768, :data1=>771}, {:data0=>-191.70643999999666, :data1=>772}, {:data0=>-127.95520999999728, :data1=>773}, {:data0=>-206.13852999999727, :data1=>774}, {:data0=>-85.23230999999844, :data1=>777}, {:data0=>-47.83199999999773, :data1=>778}, {:data0=>-119.4139199999981, :data1=>779}, {:data0=>-157.01068999999683, :data1=>780}, {:data0=>-259.42197999999723, :data1=>783}, {:data0=>-199.58906999999627, :data1=>786}, {:data0=>-130.69983999999872, :data1=>788}, {:data0=>-336.8756199999954, :data1=>790}, {:data0=>-38.616439999997645, :data1=>795}, {:data0=>-320.31669999999593, :data1=>798}, {:data0=>-180.81889999999783, :data1=>799}, {:data0=>-208.93589999999787, :data1=>800}, {:data0=>-264.575139999996, :data1=>802}, {:data0=>-342.7940899999957, :data1=>807}, {:data0=>-217.91427999999752, :data1=>808}, {:data0=>-29.708959999998264, :data1=>810}, {:data0=>-277.8770299999973, :data1=>812}, {:data0=>-292.06709999999555, :data1=>813}, {:data0=>-223.25563999999713, :data1=>814}, {:data0=>-172.08641999999685, :data1=>816}, {:data0=>-256.2060899999971, :data1=>818}, {:data0=>-339.5931099999968, :data1=>822}, {:data0=>-235.00675999999763, :data1=>823}, {:data0=>-307.149059999997, :data1=>824}, {:data0=>-145.93529999999677, :data1=>825}, {:data0=>-142.97726999999705, :data1=>826}, {:data0=>-286.8058599999958, :data1=>827}, {:data0=>-61.40260999999747, :data1=>828}, {:data0=>-176.97730999999644, :data1=>831}, {:data0=>-322.40269999999623, :data1=>833}, {:data0=>-337.00635999999673, :data1=>834}, {:data0=>-160.50449999999736, :data1=>836}, {:data0=>-142.7227199999977, :data1=>837}, {:data0=>-345.20523999999665, :data1=>841}, {:data0=>-105.18161999999819, :data1=>843}, {:data0=>-232.20564999999712, :data1=>844}]>, \"e96e735b-fce6-4057-823b-7217d4895b25\"=>#<Nyaplot::DataFrame:0x00000001025cc8 @name=\"e96e735b-fce6-4057-823b-7217d4895b25\", @rows=[{:data0=>425.9963200000272, :data1=>0}, {:data0=>968.7275000000261, :data1=>1}, {:data0=>952.6633000000218, :data1=>2}, {:data0=>1007.697260000029, :data1=>5}, {:data0=>1022.4435000000229, :data1=>6}, {:data0=>344.38730000001897, :data1=>7}, {:data0=>589.4327800000269, :data1=>8}, {:data0=>768.6034700000204, :data1=>11}, {:data0=>322.42717000002006, :data1=>12}, {:data0=>812.3407100000212, :data1=>17}, {:data0=>813.4809700000254, :data1=>19}, {:data0=>1083.5493600000268, :data1=>20}, {:data0=>766.7724700000304, :data1=>21}, {:data0=>455.57178000002284, :data1=>22}, {:data0=>593.9580500000276, :data1=>25}, {:data0=>332.090420000021, :data1=>32}, {:data0=>1194.9148900000228, :data1=>34}, {:data0=>1043.245930000029, :data1=>35}, {:data0=>492.8852600000267, :data1=>40}, {:data0=>396.933430000019, :data1=>44}, {:data0=>360.0630500000261, :data1=>45}, {:data0=>580.4638400000193, :data1=>48}, {:data0=>930.5141200000264, :data1=>50}, {:data0=>1049.0907100000281, :data1=>56}, {:data0=>396.37201000002403, :data1=>57}, {:data0=>820.2507700000236, :data1=>58}, {:data0=>1311.6520400000256, :data1=>60}, {:data0=>888.5172300000295, :data1=>61}, {:data0=>776.073950000032, :data1=>63}, {:data0=>823.9602600000208, :data1=>64}, {:data0=>538.4642800000186, :data1=>65}, {:data0=>129.79517000001914, :data1=>66}, {:data0=>966.6108900000305, :data1=>67}, {:data0=>1351.510680000027, :data1=>70}, {:data0=>902.7143500000201, :data1=>71}, {:data0=>1002.1827200000293, :data1=>72}, {:data0=>830.846250000029, :data1=>74}, {:data0=>892.6006900000298, :data1=>75}, {:data0=>5.332070000021827, :data1=>79}, {:data0=>965.9601200000224, :data1=>81}, {:data0=>548.6962300000156, :data1=>84}, {:data0=>432.0938000000202, :data1=>85}, {:data0=>872.5441400000299, :data1=>87}, {:data0=>988.0817100000287, :data1=>88}, {:data0=>444.54609000001705, :data1=>89}, {:data0=>798.9565900000291, :data1=>90}, {:data0=>439.3700000000226, :data1=>93}, {:data0=>618.2387900000282, :data1=>94}, {:data0=>759.0411200000202, :data1=>96}, {:data0=>621.9237700000205, :data1=>99}, {:data0=>1003.6571200000236, :data1=>100}, {:data0=>331.7382400000237, :data1=>103}, {:data0=>359.6315200000199, :data1=>110}, {:data0=>1139.1989200000294, :data1=>111}, {:data0=>207.64002000001815, :data1=>112}, {:data0=>299.4650200000192, :data1=>113}, {:data0=>796.98351000002, :data1=>114}, {:data0=>820.72963000003, :data1=>116}, {:data0=>1145.3299800000266, :data1=>119}, {:data0=>713.1948400000268, :data1=>120}, {:data0=>960.2097300000219, :data1=>125}, {:data0=>857.6969000000255, :data1=>128}, {:data0=>391.3790800000181, :data1=>131}, {:data0=>986.8107000000238, :data1=>133}, {:data0=>454.1104600000169, :data1=>136}, {:data0=>796.2605700000265, :data1=>139}, {:data0=>936.3998900000258, :data1=>141}, {:data0=>262.11753000002113, :data1=>142}, {:data0=>856.2455300000275, :data1=>145}, {:data0=>96.11717000002102, :data1=>148}, {:data0=>146.1742200000218, :data1=>154}, {:data0=>792.7540400000177, :data1=>155}, {:data0=>765.4545300000258, :data1=>159}, {:data0=>461.3405200000214, :data1=>161}, {:data0=>350.8464400000199, :data1=>163}, {:data0=>790.6843500000297, :data1=>165}, {:data0=>236.58443000002404, :data1=>167}, {:data0=>619.1963900000247, :data1=>171}, {:data0=>818.6519000000255, :data1=>175}, {:data0=>995.8445800000287, :data1=>176}, {:data0=>850.5073800000174, :data1=>179}, {:data0=>596.2564200000229, :data1=>180}, {:data0=>983.0216800000303, :data1=>181}, {:data0=>954.2255000000293, :data1=>182}, {:data0=>262.77919000001896, :data1=>184}, {:data0=>893.2096900000292, :data1=>186}, {:data0=>848.6486000000193, :data1=>188}, {:data0=>858.4700700000253, :data1=>190}, {:data0=>680.550460000028, :data1=>191}, {:data0=>307.7939900000177, :data1=>192}, {:data0=>609.6954100000245, :data1=>194}, {:data0=>376.7170900000201, :data1=>197}, {:data0=>1306.328250000025, :data1=>199}, {:data0=>775.356830000028, :data1=>207}, {:data0=>884.4242900000202, :data1=>210}, {:data0=>517.6049500000188, :data1=>212}, {:data0=>726.211690000025, :data1=>220}, {:data0=>407.2174200000186, :data1=>221}, {:data0=>843.802460000022, :data1=>225}, {:data0=>189.73309000001817, :data1=>227}, {:data0=>842.3989900000197, :data1=>230}, {:data0=>570.6790700000197, :data1=>233}, {:data0=>969.6319200000207, :data1=>235}, {:data0=>302.5328900000214, :data1=>236}, {:data0=>936.2366500000203, :data1=>241}, {:data0=>1040.0520400000287, :data1=>243}, {:data0=>419.51183000002356, :data1=>244}, {:data0=>295.12709000002513, :data1=>246}, {:data0=>801.5852600000292, :data1=>247}, {:data0=>845.690370000027, :data1=>250}, {:data0=>11.434120000021272, :data1=>253}, {:data0=>1182.0187500000286, :data1=>254}, {:data0=>951.601950000022, :data1=>255}, {:data0=>254.14705000002272, :data1=>256}, {:data0=>626.8888200000165, :data1=>258}, {:data0=>631.4886600000156, :data1=>261}, {:data0=>225.5021100000184, :data1=>262}, {:data0=>1280.9052400000246, :data1=>264}, {:data0=>746.1477400000199, :data1=>267}, {:data0=>551.5295600000273, :data1=>268}, {:data0=>941.509820000025, :data1=>269}, {:data0=>1144.9296600000218, :data1=>270}, {:data0=>742.4919200000295, :data1=>274}, {:data0=>872.2605300000267, :data1=>278}, {:data0=>674.5808400000246, :data1=>279}, {:data0=>270.2582700000239, :data1=>280}, {:data0=>850.264720000027, :data1=>282}, {:data0=>496.5536900000218, :data1=>285}, {:data0=>948.7948500000261, :data1=>286}, {:data0=>1031.041640000022, :data1=>287}, {:data0=>169.684020000023, :data1=>295}, {:data0=>1425.7816100000261, :data1=>296}, {:data0=>230.65600000002254, :data1=>298}, {:data0=>654.7789600000245, :data1=>299}, {:data0=>84.86644000002097, :data1=>301}, {:data0=>1090.701950000022, :data1=>302}, {:data0=>1146.1801100000284, :data1=>303}, {:data0=>100.48258000002056, :data1=>306}, {:data0=>817.3803600000169, :data1=>308}, {:data0=>603.7560900000286, :data1=>312}, {:data0=>48.504960000020596, :data1=>313}, {:data0=>716.2239500000269, :data1=>314}, {:data0=>969.1133700000283, :data1=>315}, {:data0=>774.7381100000244, :data1=>316}, {:data0=>936.5370300000283, :data1=>317}, {:data0=>1427.8631000000257, :data1=>324}, {:data0=>282.6730500000228, :data1=>326}, {:data0=>518.6478400000184, :data1=>328}, {:data0=>962.737390000022, :data1=>330}, {:data0=>140.02687000001902, :data1=>332}, {:data0=>610.3562500000163, :data1=>335}, {:data0=>485.5732400000196, :data1=>337}, {:data0=>166.65798000002235, :data1=>341}, {:data0=>324.6733100000173, :data1=>344}, {:data0=>877.4677900000311, :data1=>348}, {:data0=>911.8342800000256, :data1=>349}, {:data0=>1124.436190000027, :data1=>350}, {:data0=>601.6301400000237, :data1=>351}, {:data0=>830.8202100000248, :data1=>353}, {:data0=>745.100860000021, :data1=>355}, {:data0=>714.6339800000213, :data1=>356}, {:data0=>59.89023000002004, :data1=>357}, {:data0=>953.7026600000197, :data1=>358}, {:data0=>743.2635400000293, :data1=>364}, {:data0=>823.6146200000292, :data1=>366}, {:data0=>774.7906100000187, :data1=>368}, {:data0=>59.19596000002069, :data1=>370}, {:data0=>237.77674000002128, :data1=>373}, {:data0=>1087.7190800000262, :data1=>374}, {:data0=>388.52054000002545, :data1=>376}, {:data0=>564.6881400000206, :data1=>380}, {:data0=>861.3943900000205, :data1=>384}, {:data0=>602.5467900000281, :data1=>386}, {:data0=>785.0843700000241, :data1=>387}, {:data0=>1058.9666600000219, :data1=>389}, {:data0=>974.7303600000287, :data1=>393}, {:data0=>1115.1925500000227, :data1=>395}, {:data0=>611.4981600000156, :data1=>398}, {:data0=>870.7056900000247, :data1=>400}, {:data0=>746.6307300000296, :data1=>401}, {:data0=>1439.8564300000257, :data1=>402}, {:data0=>418.55221000001904, :data1=>404}, {:data0=>1186.4126200000248, :data1=>406}, {:data0=>321.7069900000172, :data1=>407}, {:data0=>542.8496700000197, :data1=>410}, {:data0=>840.6460500000316, :data1=>411}, {:data0=>798.7295800000257, :data1=>412}, {:data0=>506.42013000002237, :data1=>413}, {:data0=>775.6337600000242, :data1=>415}, {:data0=>361.7726900000204, :data1=>417}, {:data0=>247.03769000001822, :data1=>418}, {:data0=>714.4568700000182, :data1=>420}, {:data0=>30.61395000002014, :data1=>421}, {:data0=>168.57935000002212, :data1=>423}, {:data0=>244.14351000001852, :data1=>425}, {:data0=>612.4362500000208, :data1=>426}, {:data0=>1020.9040400000217, :data1=>427}, {:data0=>422.4405400000257, :data1=>428}, {:data0=>600.6491000000195, :data1=>432}, {:data0=>901.0625600000249, :data1=>433}, {:data0=>558.8448300000274, :data1=>439}, {:data0=>1072.1108200000256, :data1=>440}, {:data0=>986.0136100000277, :data1=>441}, {:data0=>372.91601000001714, :data1=>443}, {:data0=>796.3657900000312, :data1=>444}, {:data0=>580.1454100000177, :data1=>445}, {:data0=>139.57745000002316, :data1=>446}, {:data0=>739.6838900000237, :data1=>448}, {:data0=>516.7682200000241, :data1=>449}, {:data0=>995.2483600000272, :data1=>450}, {:data0=>1309.5337400000271, :data1=>451}, {:data0=>648.0662000000287, :data1=>452}, {:data0=>682.6713100000171, :data1=>455}, {:data0=>1005.0361100000283, :data1=>457}, {:data0=>458.9706800000251, :data1=>458}, {:data0=>504.8749200000222, :data1=>459}, {:data0=>1143.0000800000228, :data1=>460}, {:data0=>347.7496300000257, :data1=>466}, {:data0=>585.5212600000275, :data1=>467}, {:data0=>525.9819700000229, :data1=>469}, {:data0=>732.4388100000217, :data1=>470}, {:data0=>1271.992910000026, :data1=>472}, {:data0=>1171.3728100000221, :data1=>473}, {:data0=>921.6386800000242, :data1=>477}, {:data0=>350.9679600000258, :data1=>480}, {:data0=>549.2857700000146, :data1=>482}, {:data0=>605.2820700000215, :data1=>484}, {:data0=>1143.482810000028, :data1=>485}, {:data0=>1293.3743700000243, :data1=>488}, {:data0=>670.3602600000238, :data1=>490}, {:data0=>600.9303800000223, :data1=>492}, {:data0=>1202.0789600000237, :data1=>494}, {:data0=>685.5738700000287, :data1=>496}, {:data0=>1237.1276600000251, :data1=>497}, {:data0=>1295.3181300000238, :data1=>499}, {:data0=>461.08491000002266, :data1=>500}, {:data0=>642.6454600000217, :data1=>501}, {:data0=>499.9398200000261, :data1=>504}, {:data0=>586.2703600000284, :data1=>505}, {:data0=>302.98773000002376, :data1=>506}, {:data0=>1030.2226400000231, :data1=>507}, {:data0=>648.1043600000302, :data1=>509}, {:data0=>629.1059900000253, :data1=>510}, {:data0=>875.460680000028, :data1=>511}, {:data0=>376.62912000002154, :data1=>513}, {:data0=>891.1310400000276, :data1=>514}, {:data0=>142.92960000001918, :data1=>515}, {:data0=>661.5715200000244, :data1=>516}, {:data0=>555.3286300000274, :data1=>518}, {:data0=>412.4087400000201, :data1=>520}, {:data0=>619.9242600000256, :data1=>524}, {:data0=>1067.547440000023, :data1=>526}, {:data0=>541.9229700000197, :data1=>527}, {:data0=>901.0547600000236, :data1=>530}, {:data0=>431.2665600000243, :data1=>532}, {:data0=>879.0683600000301, :data1=>534}, {:data0=>195.00810000001812, :data1=>536}, {:data0=>1098.223110000028, :data1=>540}, {:data0=>704.092110000019, :data1=>544}, {:data0=>775.9522000000245, :data1=>545}, {:data0=>658.3748300000245, :data1=>547}, {:data0=>477.9505000000279, :data1=>549}, {:data0=>480.3811900000227, :data1=>552}, {:data0=>1039.000580000025, :data1=>553}, {:data0=>855.9145800000196, :data1=>555}, {:data0=>1044.5399100000209, :data1=>559}, {:data0=>1396.1713300000263, :data1=>560}, {:data0=>592.7825000000156, :data1=>561}, {:data0=>152.48432000002188, :data1=>563}, {:data0=>1015.3412600000214, :data1=>564}, {:data0=>508.85287000001676, :data1=>566}, {:data0=>516.4845100000232, :data1=>569}, {:data0=>438.99310000001725, :data1=>570}, {:data0=>1270.754550000023, :data1=>571}, {:data0=>694.7929900000266, :data1=>576}, {:data0=>715.642280000025, :data1=>578}, {:data0=>1199.4354300000239, :data1=>582}, {:data0=>761.9720500000302, :data1=>585}, {:data0=>694.9428900000285, :data1=>586}, {:data0=>162.55435000002186, :data1=>589}, {:data0=>880.0302200000298, :data1=>592}, {:data0=>816.4088400000234, :data1=>593}, {:data0=>422.576400000021, :data1=>596}, {:data0=>1128.6996400000291, :data1=>597}, {:data0=>859.7993700000226, :data1=>598}, {:data0=>809.602880000019, :data1=>600}, {:data0=>244.86254000002143, :data1=>601}, {:data0=>1341.9423100000258, :data1=>602}, {:data0=>1417.9140000000257, :data1=>606}, {:data0=>841.9111300000254, :data1=>608}, {:data0=>748.6334000000315, :data1=>610}, {:data0=>1384.4101200000264, :data1=>612}, {:data0=>742.4627300000163, :data1=>614}, {:data0=>149.76476000002205, :data1=>615}, {:data0=>774.9519700000179, :data1=>616}, {:data0=>473.3910600000256, :data1=>618}, {:data0=>420.7252400000199, :data1=>619}, {:data0=>558.3594500000274, :data1=>620}, {:data0=>1161.7339400000235, :data1=>622}, {:data0=>631.5951600000254, :data1=>625}, {:data0=>719.2844700000185, :data1=>626}, {:data0=>809.5384300000305, :data1=>627}, {:data0=>291.7906500000224, :data1=>631}, {:data0=>487.77139000002643, :data1=>633}, {:data0=>789.6410800000232, :data1=>634}, {:data0=>618.9535800000247, :data1=>635}, {:data0=>675.1099800000217, :data1=>636}, {:data0=>751.781760000026, :data1=>637}, {:data0=>304.9559200000192, :data1=>640}, {:data0=>498.6075400000215, :data1=>641}, {:data0=>1127.0702500000289, :data1=>642}, {:data0=>1058.4802600000285, :data1=>645}, {:data0=>578.601070000016, :data1=>646}, {:data0=>954.7227700000253, :data1=>647}, {:data0=>684.8613600000215, :data1=>648}, {:data0=>837.919570000022, :data1=>649}, {:data0=>717.5093800000187, :data1=>654}, {:data0=>917.2107300000296, :data1=>655}, {:data0=>363.5125800000194, :data1=>656}, {:data0=>1312.3367700000247, :data1=>661}, {:data0=>1021.7946600000249, :data1=>663}, {:data0=>1209.1292800000253, :data1=>664}, {:data0=>942.9111000000297, :data1=>665}, {:data0=>502.73139000001765, :data1=>666}, {:data0=>907.6411900000314, :data1=>670}, {:data0=>165.94795000001943, :data1=>671}, {:data0=>831.918880000019, :data1=>672}, {:data0=>550.5911800000152, :data1=>673}, {:data0=>1332.5750600000245, :data1=>674}, {:data0=>1370.1651700000261, :data1=>675}, {:data0=>311.22109000001973, :data1=>676}, {:data0=>1092.0772900000263, :data1=>679}, {:data0=>628.9551600000152, :data1=>680}, {:data0=>473.9582000000219, :data1=>681}, {:data0=>912.1991700000202, :data1=>682}, {:data0=>813.140930000025, :data1=>683}, {:data0=>693.0573700000268, :data1=>685}, {:data0=>814.8351500000206, :data1=>688}, {:data0=>594.036610000016, :data1=>691}, {:data0=>596.629810000025, :data1=>693}, {:data0=>715.6876200000304, :data1=>698}, {:data0=>564.2843100000235, :data1=>699}, {:data0=>908.8934300000266, :data1=>700}, {:data0=>809.9032200000302, :data1=>702}, {:data0=>192.98694000002263, :data1=>703}, {:data0=>817.5141900000292, :data1=>704}, {:data0=>1064.9826300000227, :data1=>705}, {:data0=>134.5399300000194, :data1=>707}, {:data0=>842.0845200000191, :data1=>709}, {:data0=>537.1997300000244, :data1=>710}, {:data0=>911.5610200000184, :data1=>712}, {:data0=>764.6243200000298, :data1=>713}, {:data0=>696.984200000024, :data1=>714}, {:data0=>699.8220000000287, :data1=>718}, {:data0=>423.2337900000274, :data1=>720}, {:data0=>278.39350000001906, :data1=>721}, {:data0=>1016.1698500000231, :data1=>723}, {:data0=>799.2948800000264, :data1=>725}, {:data0=>637.6981300000283, :data1=>726}, {:data0=>865.6808800000313, :data1=>727}, {:data0=>775.3264700000308, :data1=>728}, {:data0=>833.8624600000212, :data1=>730}, {:data0=>731.0485800000299, :data1=>731}, {:data0=>379.39452000002166, :data1=>733}, {:data0=>616.5491800000193, :data1=>734}, {:data0=>720.1525400000224, :data1=>735}, {:data0=>1127.6121700000285, :data1=>738}, {:data0=>505.41093000002365, :data1=>740}, {:data0=>738.7569000000228, :data1=>742}, {:data0=>551.8627000000268, :data1=>743}, {:data0=>75.30699000002143, :data1=>745}, {:data0=>943.2514900000301, :data1=>749}, {:data0=>828.5062700000318, :data1=>751}, {:data0=>624.6460500000294, :data1=>752}, {:data0=>619.3595600000156, :data1=>754}, {:data0=>257.8434100000219, :data1=>757}, {:data0=>409.8984500000172, :data1=>759}, {:data0=>290.3793200000233, :data1=>760}, {:data0=>574.8603800000288, :data1=>761}, {:data0=>376.6995800000169, :data1=>762}, {:data0=>1147.7266400000271, :data1=>764}, {:data0=>1153.7833500000245, :data1=>765}, {:data0=>310.3612300000255, :data1=>766}, {:data0=>276.9333600000195, :data1=>775}, {:data0=>857.1429800000184, :data1=>776}, {:data0=>285.93850000001817, :data1=>781}, {:data0=>770.4394700000287, :data1=>782}, {:data0=>1087.7277800000236, :data1=>784}, {:data0=>593.6230200000281, :data1=>785}, {:data0=>864.8585000000205, :data1=>787}, {:data0=>304.64104000002294, :data1=>789}, {:data0=>764.7676100000289, :data1=>791}, {:data0=>659.6793000000263, :data1=>792}, {:data0=>568.9879700000185, :data1=>793}, {:data0=>452.32089000001616, :data1=>794}, {:data0=>605.7893000000271, :data1=>796}, {:data0=>825.548110000024, :data1=>797}, {:data0=>447.9305400000213, :data1=>801}, {:data0=>664.9247400000246, :data1=>803}, {:data0=>303.67711000002504, :data1=>804}, {:data0=>330.88455000001704, :data1=>805}, {:data0=>793.4460000000265, :data1=>806}, {:data0=>801.4520400000207, :data1=>809}, {:data0=>755.9762400000275, :data1=>811}, {:data0=>250.6374100000246, :data1=>815}, {:data0=>855.8424500000284, :data1=>817}, {:data0=>254.81589000001992, :data1=>819}, {:data0=>615.8559200000202, :data1=>820}, {:data0=>1279.9774600000248, :data1=>821}, {:data0=>602.501300000016, :data1=>829}, {:data0=>434.89772000002193, :data1=>830}, {:data0=>794.2115300000197, :data1=>832}, {:data0=>569.356570000018, :data1=>835}, {:data0=>287.9282800000198, :data1=>838}, {:data0=>722.2072900000255, :data1=>839}, {:data0=>1217.115890000024, :data1=>840}, {:data0=>685.0164000000282, :data1=>842}, {:data0=>1452.7452100000264, :data1=>845}, {:data0=>491.2542800000278, :data1=>846}]>}, :extension=>[]}>"
      ]
     },
     "metadata": {},
     "output_type": "display_data"
    }
   ],
   "source": [
    "data_x = [[], []]\n",
    "data_y = [[], []]\n",
    "\n",
    "@dataset.each_with_index do | person, index |\n",
    "  # OBTENER EL ULTIMO ELEMENTO DE LA LISTA\n",
    "  tag = person[-1]\n",
    "  inp = person.take person.size - 1\n",
    "  data_x[tag].push(sigmoidal(inp))\n",
    "  data_y[tag].push(index)\n",
    "end\n",
    "\n",
    "plot = Nyaplot::Plot.new\n",
    "line_pres = plot.add(:scatter, data_x[0], data_y[0])\n",
    "line_pres.color('#ff2680')\n",
    "\n",
    "line_pres = plot.add(:scatter, data_x[1], data_y[1])\n",
    "line_pres.color('#15db29')\n",
    "\n",
    "plot.show"
   ]
  },
  {
   "cell_type": "markdown",
   "metadata": {},
   "source": [
    "## F. De Pruebas y Producción"
   ]
  },
  {
   "cell_type": "markdown",
   "metadata": {},
   "source": [
    "### Cotización #1\n",
    "Cliente: EMPRESA TURISTICA SOL Y MAR E.I.R.L. | *RUC: 20140917690*\n",
    "\n",
    "#### Evaluación\n",
    "Cliente percibe un ingreso fijo mensual de **S/. 2100.00**, ademas de justificar otros ingresos por facturas de servicio por **S/. 1600.00** Aprox, tiene con nosotros **15 Letras** Pagadas, el importe de su ultima letra cobrada fue de **S/. 110.00**, Edad del cliente al solicitar nuevo prestamo es de **36 años**. Pertenece al **Sector 7** (PYMES De Servicios), Antiguedad del cliente **7 meses**.\n"
   ]
  },
  {
   "cell_type": "code",
   "execution_count": 19,
   "metadata": {},
   "outputs": [
    {
     "name": "stdout",
     "output_type": "stream",
     "text": [
      "Asignar Prestamo\n"
     ]
    }
   ],
   "source": [
    "ingreso_mensual = 2100\n",
    "otros_ingresos = 1600\n",
    "facturas = 15\n",
    "importe_ultima_fact = 110\n",
    "edad = 36\n",
    "meses_contrato = 7\n",
    "sector = 7\n",
    "\n",
    "resp = predict([\n",
    "  ingreso_mensual,\n",
    "  otros_ingresos,\n",
    "  facturas,\n",
    "  importe_ultima_fact,\n",
    "  edad,\n",
    "  meses_contrato,\n",
    "  sector\n",
    "])\n",
    "\n",
    "if resp == 1\n",
    "  print \"Asignar Prestamo\\n\"\n",
    "else\n",
    "  print \"NO Asignar Prestamo\\n\"\n",
    "end\n"
   ]
  },
  {
   "cell_type": "markdown",
   "metadata": {},
   "source": [
    "### Cotización #2\n",
    "Cliente: SERVICIOS GENERALES DE ALQUILER A & J E.I.R.L. | *RUC: 20529360712*\n",
    "\n",
    "#### Evaluación\n",
    "Cliente percibe un ingreso fijo mensual de **S/. 1350.00**, ademas de justificar otros ingresos por facturas de servicio por **S/. 360.00** Aprox, tiene con nosotros **10 Letras** Pagadas, el importe de su ultima letra cobrada fue de **S/. 150.00**, Edad del cliente al solicitar nuevo prestamo es de **33 años**. Pertenece al **Sector 2** (PYMES Alquiler y Arrendamiento), Antiguedad del cliente **23 meses**.\n"
   ]
  },
  {
   "cell_type": "code",
   "execution_count": 20,
   "metadata": {},
   "outputs": [
    {
     "name": "stdout",
     "output_type": "stream",
     "text": [
      "NO Asignar Prestamo\n"
     ]
    }
   ],
   "source": [
    "ingreso_mensual = 1350\n",
    "otros_ingresos = 360\n",
    "facturas = 10\n",
    "importe_ultima_fact = 150\n",
    "edad = 33\n",
    "meses_contrato = 23\n",
    "sector = 2\n",
    "\n",
    "\n",
    "resp = predict([\n",
    "  ingreso_mensual,\n",
    "  otros_ingresos,\n",
    "  facturas,\n",
    "  importe_ultima_fact,\n",
    "  edad,\n",
    "  meses_contrato,\n",
    "  sector\n",
    "])\n",
    "\n",
    "if resp == 1\n",
    "  print \"Asignar Prestamo\\n\"\n",
    "else\n",
    "  print \"NO Asignar Prestamo\\n\"\n",
    "end"
   ]
  },
  {
   "cell_type": "markdown",
   "metadata": {
    "collapsed": true
   },
   "source": [
    "## Conclusiones y Recomendaciones\n",
    "\n",
    "Esta implementacion de la neurona tiene la capacidad de seguir aprendiendo con nuevos datos, pero tiene un limite en la curva de aprendizaje, por lo cual se recomienda mantener la informacion balanceada, y eliminar los datos mas antiguos y de uso poco frecuente, actualizar la trama de informacion antes de los dias de mayor actividad comercial."
   ]
  },
  {
   "cell_type": "markdown",
   "metadata": {},
   "source": [
    "## Referencias y bibliografía utilizada.\n",
    "\n",
    "*Clever Algorithms: Nature-Inspired Programming Recipes | \n",
    "By Jason Brownlee PhD*"
   ]
  },
  {
   "cell_type": "code",
   "execution_count": null,
   "metadata": {
    "collapsed": true
   },
   "outputs": [],
   "source": []
  }
 ],
 "metadata": {
  "kernelspec": {
   "display_name": "Ruby 2.2.7",
   "language": "ruby",
   "name": "ruby"
  },
  "language_info": {
   "file_extension": ".rb",
   "mimetype": "application/x-ruby",
   "name": "ruby",
   "version": "2.2.7"
  }
 },
 "nbformat": 4,
 "nbformat_minor": 2
}
