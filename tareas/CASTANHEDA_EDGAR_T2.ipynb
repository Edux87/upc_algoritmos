{
 "cells": [
  {
   "cell_type": "markdown",
   "metadata": {},
   "source": [
    "# Tarea Academica 02\n",
    "### Castañeda De La Cruz, Edgar Daniel (T12A)"
   ]
  },
  {
   "cell_type": "markdown",
   "metadata": {},
   "source": [
    "[1] Genere una lista enlazada simple que permita almacenar los primeros N números pares no divisible por 10. Debe empezar a partir de un número ingresado al programa. Por ejemplo si N=6 e ingresamos 12, los números generados debe ser: 14 16 18 22 24 26 \n"
   ]
  },
  {
   "cell_type": "code",
   "execution_count": 14,
   "metadata": {},
   "outputs": [
    {
     "name": "stdout",
     "output_type": "stream",
     "text": [
      "[14, 16, 18, 22, 24, 26]"
     ]
    }
   ],
   "source": [
    "## EJERCICIO 1\n",
    "\n",
    "n = 6\n",
    "desde = 12\n",
    "lista_simple = []\n",
    "cant_pares_no_div = 0\n",
    "\n",
    "desde += 1\n",
    "while cant_pares_no_div < n\n",
    "  if (desde % 10) > 0 and (desde % 2) == 0\n",
    "    cant_pares_no_div += 1\n",
    "    lista_simple.push(desde)\n",
    "  end\n",
    "  desde += 1\n",
    "end\n",
    "\n",
    "print lista_simple"
   ]
  },
  {
   "cell_type": "markdown",
   "metadata": {
    "collapsed": true
   },
   "source": [
    "[2] Elimine el nodo que se encuentra en la posición X."
   ]
  },
  {
   "cell_type": "code",
   "execution_count": 21,
   "metadata": {},
   "outputs": [
    {
     "name": "stdout",
     "output_type": "stream",
     "text": [
      "[10, 20, 30][10, 30]"
     ]
    }
   ],
   "source": [
    "## EJERCICIO 2\n",
    "\n",
    "$lista = []\n",
    "\n",
    "def crear_lista()\n",
    "  nodo1 = 10\n",
    "  nodo2 = 20\n",
    "  nodo3 = 30\n",
    "  $lista = [nodo1, nodo2, nodo3]\n",
    "  print $lista\n",
    "end\n",
    "\n",
    "def eliminar_nodo(n)\n",
    "  $lista[n] = nil\n",
    "  $lista.delete_at(n)\n",
    "  print $lista\n",
    "end\n",
    "\n",
    "crear_lista()\n",
    "eliminar_nodo(1)"
   ]
  },
  {
   "cell_type": "markdown",
   "metadata": {},
   "source": [
    "[3] Ingrese un número y genere una lista doblemente enlazada con los dígitos impares del número ingresado."
   ]
  },
  {
   "cell_type": "code",
   "execution_count": 1,
   "metadata": {},
   "outputs": [
    {
     "name": "stdout",
     "output_type": "stream",
     "text": [
      "IMPAR: 7\n",
      "IMPAR: 5\n",
      "IMPAR: 9\n",
      "IMPAR: 5\n",
      "[[nil, 7, 1], [1, 5, 2], [2, 9, 3], [3, 5, nil]]"
     ]
    }
   ],
   "source": [
    "## EJERCICIO 3\n",
    "\n",
    "nodo = [nil, 0, nil]\n",
    "lista_doble = [nodo]\n",
    "\n",
    "num = 75925\n",
    "\n",
    "list_digitos = num.to_s.chars.map(&:to_i)\n",
    "\n",
    "index = 0\n",
    "impares_count = 0\n",
    "while index < list_digitos.length\n",
    "  digito = list_digitos[index]\n",
    "  if (digito % 2) > 0\n",
    "    print \"IMPAR: \", digito, \"\\n\"\n",
    "\n",
    "    sig = impares_count + 1\n",
    "    ant = impares_count\n",
    "    \n",
    "    if index == 0\n",
    "      ant = nil\n",
    "    end\n",
    "    \n",
    "    if index == (list_digitos.length - 1)\n",
    "      sig = nil\n",
    "    end\n",
    "    lista_doble[impares_count] = [ant, digito, sig]\n",
    "    \n",
    "    #lista_doble[impares_count][1] = digito\n",
    "    impares_count += 1\n",
    "  end\n",
    "  index += 1\n",
    "end\n",
    "print lista_doble"
   ]
  },
  {
   "cell_type": "code",
   "execution_count": null,
   "metadata": {
    "collapsed": true
   },
   "outputs": [],
   "source": []
  }
 ],
 "metadata": {
  "kernelspec": {
   "display_name": "Ruby 2.2.7",
   "language": "ruby",
   "name": "ruby"
  },
  "language_info": {
   "file_extension": ".rb",
   "mimetype": "application/x-ruby",
   "name": "ruby",
   "version": "2.2.7"
  }
 },
 "nbformat": 4,
 "nbformat_minor": 2
}
