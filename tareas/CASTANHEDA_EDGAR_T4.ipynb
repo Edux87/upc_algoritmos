{
 "cells": [
  {
   "cell_type": "markdown",
   "metadata": {},
   "source": [
    "# Tarea Academica 04\n",
    "### Castañeda De La Cruz, Edgar Daniel (T12A)"
   ]
  },
  {
   "cell_type": "markdown",
   "metadata": {},
   "source": [
    "[1] Implementar el ordenamiento heapsort, usar el pseudocódigo presentado en la presentación del ordenamiento heapsort."
   ]
  },
  {
   "cell_type": "code",
   "execution_count": 47,
   "metadata": {},
   "outputs": [
    {
     "name": "stdout",
     "output_type": "stream",
     "text": [
      "3|[nil, 2, -12, 1212, 32, 13, 12, 24]\n",
      "2|[nil, 2, -12, 1212, 32, 13, 12, 24]\n",
      "1|[nil, 2, 32, 1212, -12, 13, 12, 24]\n",
      "6|[nil, 32, 13, 24, -12, 2, 12, 1212]\n",
      "5|[nil, 24, 13, 12, -12, 2, 32, 1212]\n",
      "4|[nil, 13, 2, 12, -12, 24, 32, 1212]\n",
      "3|[nil, 12, 2, -12, 13, 24, 32, 1212]\n",
      "2|[nil, 2, -12, 12, 13, 24, 32, 1212]\n",
      "1|[nil, -12, 2, 12, 13, 24, 32, 1212]\n"
     ]
    },
    {
     "data": {
      "text/plain": [
       "[-12, 2, 12, 13, 24, 32, 1212]"
      ]
     },
     "execution_count": 47,
     "metadata": {},
     "output_type": "execute_result"
    }
   ],
   "source": [
    "# EJERCICIO 1\n",
    "\n",
    "@arreglo = []\n",
    "@cant_items = 0\n",
    "\n",
    "def add_item(item)\n",
    "  @arreglo[@cant_items] = item\n",
    "  @cant_items += 1\n",
    "end\n",
    "  \n",
    "add_item(2)\n",
    "add_item(-12)\n",
    "add_item(1212)\n",
    "add_item(32)\n",
    "add_item(13)\n",
    "add_item(12)\n",
    "add_item(24)\n",
    "\n",
    "def heap_desc(arreglo, index_padre, cant_items)  \n",
    "  nodo = arreglo[index_padre]  \n",
    "  # MIENTRAS \n",
    "  while (index_hijo = 2 * index_padre) <= cant_items  \n",
    "    index_hijo += 1  if index_hijo < cant_items and arreglo[index_hijo] < arreglo[index_hijo + 1]  \n",
    "    if nodo >= arreglo[index_hijo]  \n",
    "      break\n",
    "    end\n",
    "    arreglo[index_padre] = arreglo[index_hijo]  \n",
    "    index_padre = index_hijo  \n",
    "  end  \n",
    "  arreglo[index_padre] = nodo  \n",
    "end  \n",
    "\n",
    "def heap_sort(arreglo)  \n",
    "  cant_items = @cant_items  \n",
    "  temp_arr = [nil] + arreglo  # AGREGAR UN PSEUDO-PARENT AL ROOT (SI NO FUNCIONA :S )\n",
    "  \n",
    "  # DESDE ARRIBA HACIA ABAJO \n",
    "  i = (cant_items / 2) + 1\n",
    "  while i != 1\n",
    "    i -= 1\n",
    "    print i, \"|\", temp_arr, \"\\n\"    \n",
    "    heap_desc(temp_arr, i, cant_items)  \n",
    "  end  \n",
    "  \n",
    "  # DESDE ABAJO HACIA ARRIBA \n",
    "  \n",
    "  while cant_items > 1  \n",
    "    temp_arr[1], temp_arr[cant_items] = temp_arr[cant_items], temp_arr[1]  \n",
    "    cant_items -= 1  \n",
    "    heap_desc(temp_arr, 1, cant_items)  \n",
    "    print cant_items, \"|\", temp_arr, \"\\n\"    \n",
    "  end  \n",
    "  temp_arr.drop(1)  # ELIMINAMOS EL PSUDO-ROOT\n",
    "end  \n",
    "\n",
    "\n",
    "heap_sort(@arreglo) \n"
   ]
  },
  {
   "cell_type": "code",
   "execution_count": null,
   "metadata": {
    "collapsed": true
   },
   "outputs": [],
   "source": []
  }
 ],
 "metadata": {
  "kernelspec": {
   "display_name": "Ruby 2.2.7",
   "language": "ruby",
   "name": "ruby"
  },
  "language_info": {
   "file_extension": ".rb",
   "mimetype": "application/x-ruby",
   "name": "ruby",
   "version": "2.2.7"
  }
 },
 "nbformat": 4,
 "nbformat_minor": 2
}
