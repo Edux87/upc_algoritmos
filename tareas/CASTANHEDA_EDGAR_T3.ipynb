{
 "cells": [
  {
   "cell_type": "markdown",
   "metadata": {},
   "source": [
    "# Tarea Academica 03\n",
    "### Castañeda De La Cruz, Edgar Daniel (T12A)"
   ]
  },
  {
   "cell_type": "markdown",
   "metadata": {},
   "source": [
    "[1] Desarrollar un programa recursivo que permita realizar lo siguiente: Dado un arreglo de números enteros y que contiene N elementos siendo N>=1, desarrollar un programa en Ruby que devuelva verdadero si la suma de la primera mitad de los enteros del arreglo es igual a la suma de la segunda mitad de los enteros del arreglo"
   ]
  },
  {
   "cell_type": "code",
   "execution_count": 61,
   "metadata": {},
   "outputs": [
    {
     "name": "stdout",
     "output_type": "stream",
     "text": [
      "Arreglo: [2, 12, 32, 3, 12, 24], Cantidad Items: 6\n",
      "Suma Primera Mitad: 46 items: [2, 12, 32]\n",
      "Suma Segunda Mitad: 39 items: [3, 12, 24]\n",
      "Primera Parte Mayor"
     ]
    }
   ],
   "source": [
    "# EJERCICIO 1\n",
    "\n",
    "@arreglo = []\n",
    "@index = 0\n",
    "\n",
    "def add_item(item)\n",
    "  @arreglo[@index] = item\n",
    "  @index += 1\n",
    "end\n",
    "\n",
    "def sum_arreglo(arreglo, index = 0, acum = 0) \n",
    "  if arreglo[index] == nil\n",
    "    return 0\n",
    "  end\n",
    "  return arreglo[index] + sum_arreglo(arreglo, index + 1)\n",
    "end\n",
    "  \n",
    "add_item(2)\n",
    "add_item(12)\n",
    "add_item(32)\n",
    "add_item(3)\n",
    "add_item(12)\n",
    "add_item(24)\n",
    "\n",
    "\n",
    "def main()\n",
    "  print \"Arreglo: \", @arreglo, \", Cantidad Items: \", @index, \"\\n\"\n",
    "  i = 0\n",
    "  breaker = @index / 2\n",
    "\n",
    "  arr_parte_1 = []\n",
    "  arr_parte_2 = []\n",
    "  while i < @index \n",
    "    if i < breaker\n",
    "      arr_parte_1[i] = @arreglo[i]\n",
    "    else\n",
    "      arr_parte_2[i - breaker] = @arreglo[i]\n",
    "    end\n",
    "    i += 1\n",
    "  end\n",
    "  print \"Sum Primera Mitad: \", sum_arreglo(arr_parte_1), \" items: \", arr_parte_1, \"\\n\"\n",
    "  print \"Sum Segunda Mitad: \", sum_arreglo(arr_parte_2), \" items: \", arr_parte_2, \"\\n\"\n",
    "  \n",
    "  if sum_arreglo(arr_parte_1) > sum_arreglo(arr_parte_2)\n",
    "    print \"Primera Parte Mayor\"\n",
    "  else\n",
    "    print \"Segunda Parte Mayor\"\n",
    "  end\n",
    "end\n",
    "\n",
    "\n",
    "main()"
   ]
  },
  {
   "cell_type": "markdown",
   "metadata": {
    "collapsed": true
   },
   "source": [
    "[2]\tDesarrollar un programa recursivo que transforme un número escrito en base 2 a base decimal.  "
   ]
  },
  {
   "cell_type": "code",
   "execution_count": 65,
   "metadata": {},
   "outputs": [
    {
     "name": "stdout",
     "output_type": "stream",
     "text": [
      "100\n",
      "905\n",
      "2"
     ]
    }
   ],
   "source": [
    "# EJERCICIO 2\n",
    "\n",
    "def bin_to_dec(bin, exp=1)\n",
    "  if bin > 0\n",
    "    residuo = bin % 10\n",
    "    bin = bin / 10  \n",
    "    return (residuo * exp) + bin_to_dec(bin, exp * 2)\n",
    "  else\n",
    "    return 0\n",
    "  end\n",
    "end\n",
    "\n",
    "print bin_to_dec(1100100), \"\\n\"\n",
    "print bin_to_dec(1110001001), \"\\n\"\n",
    "print bin_to_dec(10)"
   ]
  },
  {
   "cell_type": "markdown",
   "metadata": {},
   "source": [
    "[3] Implemente una función recursiva que indique si una cadena es palíndromo."
   ]
  },
  {
   "cell_type": "code",
   "execution_count": 63,
   "metadata": {},
   "outputs": [
    {
     "name": "stdout",
     "output_type": "stream",
     "text": [
      "RECONOCER, es palindromo?: SI\n",
      "ROTOR, es palindromo?: SI\n",
      "ALGORITMOS, es palindromo?: NO"
     ]
    }
   ],
   "source": [
    "# EJERCICIO 3 \n",
    "\n",
    "def es_palindromo(cadena)\n",
    "    cadena_to_list = cadena.split(\"\")\n",
    "    longitud = cadena_to_list.size\n",
    "    if longitud < 2\n",
    "        return \"SI\"\n",
    "    elsif cadena_to_list[0] != cadena_to_list[-1]\n",
    "        return \"NO\"\n",
    "    else\n",
    "        return es_palindromo(cadena_to_list[1..-2].join(\"\"))\n",
    "    end\n",
    "end\n",
    "\n",
    "print \"RECONOCER, es palindromo?: \", es_palindromo(\"RECONOCER\"), \"\\n\"\n",
    "print \"ROTOR, es palindromo?: \", es_palindromo(\"ROTOR\"), \"\\n\"\n",
    "print \"ALGORITMOS, es palindromo?: \", es_palindromo(\"ALGORITMOS\")"
   ]
  },
  {
   "cell_type": "code",
   "execution_count": null,
   "metadata": {
    "collapsed": true
   },
   "outputs": [],
   "source": []
  }
 ],
 "metadata": {
  "kernelspec": {
   "display_name": "Ruby 2.2.7",
   "language": "ruby",
   "name": "ruby"
  },
  "language_info": {
   "file_extension": ".rb",
   "mimetype": "application/x-ruby",
   "name": "ruby",
   "version": "2.2.7"
  }
 },
 "nbformat": 4,
 "nbformat_minor": 2
}
