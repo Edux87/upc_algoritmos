{
 "cells": [
  {
   "cell_type": "markdown",
   "metadata": {},
   "source": [
    "# Perceptron"
   ]
  },
  {
   "cell_type": "markdown",
   "metadata": {},
   "source": [
    "## Implementacion"
   ]
  },
  {
   "cell_type": "markdown",
   "metadata": {},
   "source": [
    "### Configuracion de Hiperparametros"
   ]
  },
  {
   "cell_type": "code",
   "execution_count": 24,
   "metadata": {},
   "outputs": [
    {
     "data": {
      "text/plain": [
       "0.2"
      ]
     },
     "execution_count": 24,
     "metadata": {},
     "output_type": "execute_result"
    }
   ],
   "source": [
    "# require 'nyaplot'\n",
    "\n",
    "@ins = 3 # CANTIDAD DE INPUTS\n",
    "@eta = 0.2 # PARAMETRO DE REGULARIZACION \n"
   ]
  },
  {
   "cell_type": "markdown",
   "metadata": {},
   "source": [
    "### Generar Lista de Pesos Aleatorios"
   ]
  },
  {
   "cell_type": "code",
   "execution_count": 25,
   "metadata": {},
   "outputs": [
    {
     "data": {
      "text/plain": [
       "[2, 2, 1]"
      ]
     },
     "execution_count": 25,
     "metadata": {},
     "output_type": "execute_result"
    }
   ],
   "source": [
    "@w = []\n",
    "\n",
    "i = 0\n",
    "while i < @ins \n",
    "  @w[i] = rand(0..(@ins-1))\n",
    "  i += 1\n",
    "end\n",
    "\n",
    "@w\n"
   ]
  },
  {
   "cell_type": "markdown",
   "metadata": {},
   "source": [
    "### Funcion de Predicción"
   ]
  },
  {
   "cell_type": "code",
   "execution_count": 26,
   "metadata": {},
   "outputs": [
    {
     "name": "stdout",
     "output_type": "stream",
     "text": [
      "12"
     ]
    },
    {
     "data": {
      "text/plain": [
       "1"
      ]
     },
     "execution_count": 26,
     "metadata": {},
     "output_type": "execute_result"
    }
   ],
   "source": [
    "def predict(inputs)\n",
    "  # OBTENER SUMA DEL PRODUCTO DE LOS PESOS\n",
    "  i = 0\n",
    "  weighted_average = 0\n",
    "  while i < @ins\n",
    "    wn = @w[i]\n",
    "    xn = inputs[i]\n",
    "    weighted_average += wn*xn\n",
    "    i += 1\n",
    "  end\n",
    "  \n",
    "  print weighted_average\n",
    "  \n",
    "  if weighted_average > 0\n",
    "    return 1  \n",
    "  else\n",
    "    return 0\n",
    "  end\n",
    "end\n",
    "\n",
    "predict([1, 2, 6])"
   ]
  },
  {
   "cell_type": "code",
   "execution_count": null,
   "metadata": {
    "collapsed": true
   },
   "outputs": [],
   "source": [
    "    def train(self,inputs,ex_output):\n",
    "        output = self.predict(inputs)\n",
    "        error = ex_output - output\n",
    "        if error != 0:\n",
    "            self._w = [w+self._eta*error*x for w,x in zip(self._w,inputs)]\n",
    "        return error\n",
    "              \n",
    "              \n",
    "## Datos de hombres y mujeres\n",
    "input_data = [[170,56,1], # Mujer de 1.70m y 56kg\n",
    "              [172,63,0],# Hombre de 1.72m y 63kg\n",
    "              [160,50,1], # Mujer de 1.60m y 50kg\n",
    "              [170,63,0], # Hombre de 1.70m y 63kg\n",
    "              [174,66,0],# Hombre de 1.74m y 66kg\n",
    "              [158,55,1],# Mujer de 1.58m y 55kg\n",
    "              [183,80,0],# Hombre de 1.83m y 80kg\n",
    "              [182,70,0],# Hombre de 1.82m y 70kg\n",
    "              [165,54,1]]# Mujer de 1.65m y 54kg\n",
    "\n",
    "## Creamos el perceptron\n",
    "pr = Perceptron(3,0.1) # Perceptron con 3 entradas\n",
    "weights = [] # Lista con los pesos\n",
    "errors = []  # Lista con los errores\n",
    "\n",
    "## Fase de entrenamiento\n",
    "for _ in range(100):\n",
    "    # Vamos a entrenarlo varias veces sobre los mismos datos\n",
    "    # para que los 'pesos' converjan\n",
    "    for person in input_data:\n",
    "        output = person[-1]\n",
    "        inp = [1] + person[0:-1] # Agregamos un uno por default\n",
    "        weights.append(pr._w)\n",
    "        err = pr.train(inp,output)\n",
    "        errors.append(err)\n",
    "\n",
    "h = float(raw_input(\"Introduce tu estatura en centimetros.- \"))\n",
    "w = float(raw_input(\"Introduce tu peso en kilogramos.- \"))\n",
    "\n",
    "if pr.predict([1,h,2]) == 1: print \"Mujer\"\n",
    "else: print \"Hombre\"\n",
    "\n",
    "#print \"\"\"\n",
    "#Nota: El resultado puede estar incorrecto. \n",
    "#Esto puede ser debido a sesgo en la muestra, o porque es imposible separar\n",
    "#a hombres y mujeres perfectamente basados unicamente en talla y peso.\"\"\"\n",
    "\n",
    "## Fase de graficacion\n",
    "import imp\n",
    "\n",
    "can_plot = True\n",
    "try:\n",
    "    imp.find_module('matplotlib')\n",
    "except:\n",
    "    can_plot = False\n",
    "\n",
    "if not can_plot:\n",
    "    print \"No es posible graficar los resultados porque no tienes matplotlib\"\n",
    "    sys.exit(0)\n",
    "    pass\n",
    "\n",
    "import matplotlib.pyplot as plt\n",
    "\n",
    "plt.plot(errors)\n",
    "plt.show()"
   ]
  }
 ],
 "metadata": {
  "kernelspec": {
   "display_name": "Ruby 2.2.7",
   "language": "ruby",
   "name": "ruby"
  },
  "language_info": {
   "file_extension": ".rb",
   "mimetype": "application/x-ruby",
   "name": "ruby",
   "version": "2.2.7"
  }
 },
 "nbformat": 4,
 "nbformat_minor": 2
}
